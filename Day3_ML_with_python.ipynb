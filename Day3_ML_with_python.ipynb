{
 "cells": [
  {
   "cell_type": "code",
   "execution_count": 62,
   "id": "ca442e43",
   "metadata": {},
   "outputs": [],
   "source": [
    "import pandas as pd\n",
    "import numpy as np\n",
    "import matplotlib.pyplot as plt\n",
    "import seaborn as sns"
   ]
  },
  {
   "cell_type": "code",
   "execution_count": 63,
   "id": "0d25de6a",
   "metadata": {},
   "outputs": [],
   "source": [
    "from sklearn.model_selection import train_test_split\n",
    "from sklearn.linear_model import LogisticRegression"
   ]
  },
  {
   "cell_type": "code",
   "execution_count": 64,
   "id": "b31d149f",
   "metadata": {},
   "outputs": [
    {
     "data": {
      "text/html": [
       "<div>\n",
       "<style scoped>\n",
       "    .dataframe tbody tr th:only-of-type {\n",
       "        vertical-align: middle;\n",
       "    }\n",
       "\n",
       "    .dataframe tbody tr th {\n",
       "        vertical-align: top;\n",
       "    }\n",
       "\n",
       "    .dataframe thead th {\n",
       "        text-align: right;\n",
       "    }\n",
       "</style>\n",
       "<table border=\"1\" class=\"dataframe\">\n",
       "  <thead>\n",
       "    <tr style=\"text-align: right;\">\n",
       "      <th></th>\n",
       "      <th>Cust ID</th>\n",
       "      <th>Card Num</th>\n",
       "      <th>Amount</th>\n",
       "      <th>Currency</th>\n",
       "      <th>Card Type</th>\n",
       "      <th>Trans Mode</th>\n",
       "      <th>Fraudlabel</th>\n",
       "    </tr>\n",
       "  </thead>\n",
       "  <tbody>\n",
       "    <tr>\n",
       "      <th>0</th>\n",
       "      <td>1</td>\n",
       "      <td>198765</td>\n",
       "      <td>285.88</td>\n",
       "      <td>INR</td>\n",
       "      <td>MasterCard</td>\n",
       "      <td>Online</td>\n",
       "      <td>1</td>\n",
       "    </tr>\n",
       "    <tr>\n",
       "      <th>1</th>\n",
       "      <td>2</td>\n",
       "      <td>198766</td>\n",
       "      <td>1777.32</td>\n",
       "      <td>EUR</td>\n",
       "      <td>American Express</td>\n",
       "      <td>Online</td>\n",
       "      <td>1</td>\n",
       "    </tr>\n",
       "    <tr>\n",
       "      <th>2</th>\n",
       "      <td>3</td>\n",
       "      <td>198767</td>\n",
       "      <td>3939.01</td>\n",
       "      <td>USD</td>\n",
       "      <td>Visa</td>\n",
       "      <td>In-Person</td>\n",
       "      <td>1</td>\n",
       "    </tr>\n",
       "    <tr>\n",
       "      <th>3</th>\n",
       "      <td>4</td>\n",
       "      <td>198768</td>\n",
       "      <td>376.44</td>\n",
       "      <td>USD</td>\n",
       "      <td>Visa</td>\n",
       "      <td>In-Person</td>\n",
       "      <td>0</td>\n",
       "    </tr>\n",
       "    <tr>\n",
       "      <th>4</th>\n",
       "      <td>5</td>\n",
       "      <td>198769</td>\n",
       "      <td>1687.33</td>\n",
       "      <td>INR</td>\n",
       "      <td>MasterCard</td>\n",
       "      <td>Online</td>\n",
       "      <td>1</td>\n",
       "    </tr>\n",
       "    <tr>\n",
       "      <th>...</th>\n",
       "      <td>...</td>\n",
       "      <td>...</td>\n",
       "      <td>...</td>\n",
       "      <td>...</td>\n",
       "      <td>...</td>\n",
       "      <td>...</td>\n",
       "      <td>...</td>\n",
       "    </tr>\n",
       "    <tr>\n",
       "      <th>3995</th>\n",
       "      <td>3996</td>\n",
       "      <td>202760</td>\n",
       "      <td>4542.61</td>\n",
       "      <td>INR</td>\n",
       "      <td>Visa</td>\n",
       "      <td>Online</td>\n",
       "      <td>1</td>\n",
       "    </tr>\n",
       "    <tr>\n",
       "      <th>3996</th>\n",
       "      <td>3997</td>\n",
       "      <td>202761</td>\n",
       "      <td>4828.59</td>\n",
       "      <td>INR</td>\n",
       "      <td>Visa</td>\n",
       "      <td>In-Person</td>\n",
       "      <td>0</td>\n",
       "    </tr>\n",
       "    <tr>\n",
       "      <th>3997</th>\n",
       "      <td>3998</td>\n",
       "      <td>202762</td>\n",
       "      <td>957.30</td>\n",
       "      <td>EUR</td>\n",
       "      <td>American Express</td>\n",
       "      <td>In-Person</td>\n",
       "      <td>1</td>\n",
       "    </tr>\n",
       "    <tr>\n",
       "      <th>3998</th>\n",
       "      <td>3999</td>\n",
       "      <td>202763</td>\n",
       "      <td>4269.58</td>\n",
       "      <td>USD</td>\n",
       "      <td>MasterCard</td>\n",
       "      <td>Online</td>\n",
       "      <td>0</td>\n",
       "    </tr>\n",
       "    <tr>\n",
       "      <th>3999</th>\n",
       "      <td>4000</td>\n",
       "      <td>202764</td>\n",
       "      <td>2030.38</td>\n",
       "      <td>INR</td>\n",
       "      <td>American Express</td>\n",
       "      <td>Online</td>\n",
       "      <td>0</td>\n",
       "    </tr>\n",
       "  </tbody>\n",
       "</table>\n",
       "<p>4000 rows × 7 columns</p>\n",
       "</div>"
      ],
      "text/plain": [
       "      Cust ID  Card Num   Amount Currency         Card Type Trans Mode  \\\n",
       "0           1    198765   285.88      INR        MasterCard     Online   \n",
       "1           2    198766  1777.32      EUR  American Express     Online   \n",
       "2           3    198767  3939.01      USD              Visa  In-Person   \n",
       "3           4    198768   376.44      USD              Visa  In-Person   \n",
       "4           5    198769  1687.33      INR        MasterCard     Online   \n",
       "...       ...       ...      ...      ...               ...        ...   \n",
       "3995     3996    202760  4542.61      INR              Visa     Online   \n",
       "3996     3997    202761  4828.59      INR              Visa  In-Person   \n",
       "3997     3998    202762   957.30      EUR  American Express  In-Person   \n",
       "3998     3999    202763  4269.58      USD        MasterCard     Online   \n",
       "3999     4000    202764  2030.38      INR  American Express     Online   \n",
       "\n",
       "      Fraudlabel  \n",
       "0              1  \n",
       "1              1  \n",
       "2              1  \n",
       "3              0  \n",
       "4              1  \n",
       "...          ...  \n",
       "3995           1  \n",
       "3996           0  \n",
       "3997           1  \n",
       "3998           0  \n",
       "3999           0  \n",
       "\n",
       "[4000 rows x 7 columns]"
      ]
     },
     "execution_count": 64,
     "metadata": {},
     "output_type": "execute_result"
    }
   ],
   "source": [
    "df=pd.read_csv('Day3.csv')\n",
    "df"
   ]
  },
  {
   "cell_type": "code",
   "execution_count": 65,
   "id": "61339ae4",
   "metadata": {},
   "outputs": [
    {
     "data": {
      "text/plain": [
       "(4000, 7)"
      ]
     },
     "execution_count": 65,
     "metadata": {},
     "output_type": "execute_result"
    }
   ],
   "source": [
    "df.shape"
   ]
  },
  {
   "cell_type": "code",
   "execution_count": 66,
   "id": "fceb1fa0",
   "metadata": {},
   "outputs": [
    {
     "name": "stdout",
     "output_type": "stream",
     "text": [
      "<class 'pandas.core.frame.DataFrame'>\n",
      "RangeIndex: 4000 entries, 0 to 3999\n",
      "Data columns (total 7 columns):\n",
      " #   Column      Non-Null Count  Dtype  \n",
      "---  ------      --------------  -----  \n",
      " 0   Cust ID     4000 non-null   int64  \n",
      " 1   Card Num    4000 non-null   int64  \n",
      " 2   Amount      4000 non-null   float64\n",
      " 3   Currency    4000 non-null   object \n",
      " 4   Card Type   4000 non-null   object \n",
      " 5   Trans Mode  4000 non-null   object \n",
      " 6   Fraudlabel  4000 non-null   int64  \n",
      "dtypes: float64(1), int64(3), object(3)\n",
      "memory usage: 218.9+ KB\n"
     ]
    }
   ],
   "source": [
    "df.info()"
   ]
  },
  {
   "cell_type": "code",
   "execution_count": 67,
   "id": "66ca12c4",
   "metadata": {},
   "outputs": [
    {
     "data": {
      "text/plain": [
       "1    2005\n",
       "0    1995\n",
       "Name: Fraudlabel, dtype: int64"
      ]
     },
     "execution_count": 67,
     "metadata": {},
     "output_type": "execute_result"
    }
   ],
   "source": [
    "#Fraud count\n",
    "cd=df['Fraudlabel'].value_counts()\n",
    "cd"
   ]
  },
  {
   "cell_type": "code",
   "execution_count": 68,
   "id": "18921b65",
   "metadata": {},
   "outputs": [
    {
     "name": "stdout",
     "output_type": "stream",
     "text": [
      "Imbalance Ratio (Fraudulent to Non-Fraudulent): 1.005012531328321\n"
     ]
    }
   ],
   "source": [
    "imbalance_ratio = cd[1] / cd[0]\n",
    "print(\"Imbalance Ratio (Fraudulent to Non-Fraudulent):\", imbalance_ratio)"
   ]
  },
  {
   "cell_type": "code",
   "execution_count": 69,
   "id": "77afab31",
   "metadata": {},
   "outputs": [
    {
     "data": {
      "text/html": [
       "<div>\n",
       "<style scoped>\n",
       "    .dataframe tbody tr th:only-of-type {\n",
       "        vertical-align: middle;\n",
       "    }\n",
       "\n",
       "    .dataframe tbody tr th {\n",
       "        vertical-align: top;\n",
       "    }\n",
       "\n",
       "    .dataframe thead th {\n",
       "        text-align: right;\n",
       "    }\n",
       "</style>\n",
       "<table border=\"1\" class=\"dataframe\">\n",
       "  <thead>\n",
       "    <tr style=\"text-align: right;\">\n",
       "      <th></th>\n",
       "      <th>count</th>\n",
       "      <th>mean</th>\n",
       "      <th>std</th>\n",
       "      <th>min</th>\n",
       "      <th>25%</th>\n",
       "      <th>50%</th>\n",
       "      <th>75%</th>\n",
       "      <th>max</th>\n",
       "    </tr>\n",
       "  </thead>\n",
       "  <tbody>\n",
       "    <tr>\n",
       "      <th>Cust ID</th>\n",
       "      <td>4000.0</td>\n",
       "      <td>2000.500000</td>\n",
       "      <td>1154.844867</td>\n",
       "      <td>1.00</td>\n",
       "      <td>1000.7500</td>\n",
       "      <td>2000.500</td>\n",
       "      <td>3000.2500</td>\n",
       "      <td>4000.0</td>\n",
       "    </tr>\n",
       "    <tr>\n",
       "      <th>Card Num</th>\n",
       "      <td>4000.0</td>\n",
       "      <td>200764.500000</td>\n",
       "      <td>1154.844867</td>\n",
       "      <td>198765.00</td>\n",
       "      <td>199764.7500</td>\n",
       "      <td>200764.500</td>\n",
       "      <td>201764.2500</td>\n",
       "      <td>202764.0</td>\n",
       "    </tr>\n",
       "    <tr>\n",
       "      <th>Amount</th>\n",
       "      <td>4000.0</td>\n",
       "      <td>2504.591608</td>\n",
       "      <td>1460.663169</td>\n",
       "      <td>1.09</td>\n",
       "      <td>1225.1525</td>\n",
       "      <td>2520.815</td>\n",
       "      <td>3768.0675</td>\n",
       "      <td>4996.7</td>\n",
       "    </tr>\n",
       "    <tr>\n",
       "      <th>Fraudlabel</th>\n",
       "      <td>4000.0</td>\n",
       "      <td>0.501250</td>\n",
       "      <td>0.500061</td>\n",
       "      <td>0.00</td>\n",
       "      <td>0.0000</td>\n",
       "      <td>1.000</td>\n",
       "      <td>1.0000</td>\n",
       "      <td>1.0</td>\n",
       "    </tr>\n",
       "  </tbody>\n",
       "</table>\n",
       "</div>"
      ],
      "text/plain": [
       "             count           mean          std        min          25%  \\\n",
       "Cust ID     4000.0    2000.500000  1154.844867       1.00    1000.7500   \n",
       "Card Num    4000.0  200764.500000  1154.844867  198765.00  199764.7500   \n",
       "Amount      4000.0    2504.591608  1460.663169       1.09    1225.1525   \n",
       "Fraudlabel  4000.0       0.501250     0.500061       0.00       0.0000   \n",
       "\n",
       "                   50%          75%       max  \n",
       "Cust ID       2000.500    3000.2500    4000.0  \n",
       "Card Num    200764.500  201764.2500  202764.0  \n",
       "Amount        2520.815    3768.0675    4996.7  \n",
       "Fraudlabel       1.000       1.0000       1.0  "
      ]
     },
     "execution_count": 69,
     "metadata": {},
     "output_type": "execute_result"
    }
   ],
   "source": [
    "df.describe().T"
   ]
  },
  {
   "cell_type": "code",
   "execution_count": 70,
   "id": "2d2a3a52",
   "metadata": {},
   "outputs": [
    {
     "data": {
      "text/plain": [
       "Cust ID       0\n",
       "Card Num      0\n",
       "Amount        0\n",
       "Currency      0\n",
       "Card Type     0\n",
       "Trans Mode    0\n",
       "Fraudlabel    0\n",
       "dtype: int64"
      ]
     },
     "execution_count": 70,
     "metadata": {},
     "output_type": "execute_result"
    }
   ],
   "source": [
    "df.isna().sum()"
   ]
  },
  {
   "cell_type": "code",
   "execution_count": 71,
   "id": "fb34c91f",
   "metadata": {},
   "outputs": [
    {
     "data": {
      "text/html": [
       "<div>\n",
       "<style scoped>\n",
       "    .dataframe tbody tr th:only-of-type {\n",
       "        vertical-align: middle;\n",
       "    }\n",
       "\n",
       "    .dataframe tbody tr th {\n",
       "        vertical-align: top;\n",
       "    }\n",
       "\n",
       "    .dataframe thead th {\n",
       "        text-align: right;\n",
       "    }\n",
       "</style>\n",
       "<table border=\"1\" class=\"dataframe\">\n",
       "  <thead>\n",
       "    <tr style=\"text-align: right;\">\n",
       "      <th></th>\n",
       "      <th>Cust ID</th>\n",
       "      <th>Card Num</th>\n",
       "      <th>Amount</th>\n",
       "      <th>Currency</th>\n",
       "      <th>Card Type</th>\n",
       "      <th>Trans Mode</th>\n",
       "      <th>Fraudlabel</th>\n",
       "    </tr>\n",
       "  </thead>\n",
       "  <tbody>\n",
       "    <tr>\n",
       "      <th>0</th>\n",
       "      <td>1</td>\n",
       "      <td>198765</td>\n",
       "      <td>285.88</td>\n",
       "      <td>1</td>\n",
       "      <td>MasterCard</td>\n",
       "      <td>Online</td>\n",
       "      <td>1</td>\n",
       "    </tr>\n",
       "    <tr>\n",
       "      <th>1</th>\n",
       "      <td>2</td>\n",
       "      <td>198766</td>\n",
       "      <td>1777.32</td>\n",
       "      <td>0</td>\n",
       "      <td>American Express</td>\n",
       "      <td>Online</td>\n",
       "      <td>1</td>\n",
       "    </tr>\n",
       "    <tr>\n",
       "      <th>2</th>\n",
       "      <td>3</td>\n",
       "      <td>198767</td>\n",
       "      <td>3939.01</td>\n",
       "      <td>2</td>\n",
       "      <td>Visa</td>\n",
       "      <td>In-Person</td>\n",
       "      <td>1</td>\n",
       "    </tr>\n",
       "    <tr>\n",
       "      <th>3</th>\n",
       "      <td>4</td>\n",
       "      <td>198768</td>\n",
       "      <td>376.44</td>\n",
       "      <td>2</td>\n",
       "      <td>Visa</td>\n",
       "      <td>In-Person</td>\n",
       "      <td>0</td>\n",
       "    </tr>\n",
       "    <tr>\n",
       "      <th>4</th>\n",
       "      <td>5</td>\n",
       "      <td>198769</td>\n",
       "      <td>1687.33</td>\n",
       "      <td>1</td>\n",
       "      <td>MasterCard</td>\n",
       "      <td>Online</td>\n",
       "      <td>1</td>\n",
       "    </tr>\n",
       "  </tbody>\n",
       "</table>\n",
       "</div>"
      ],
      "text/plain": [
       "   Cust ID  Card Num   Amount  Currency         Card Type Trans Mode  \\\n",
       "0        1    198765   285.88         1        MasterCard     Online   \n",
       "1        2    198766  1777.32         0  American Express     Online   \n",
       "2        3    198767  3939.01         2              Visa  In-Person   \n",
       "3        4    198768   376.44         2              Visa  In-Person   \n",
       "4        5    198769  1687.33         1        MasterCard     Online   \n",
       "\n",
       "   Fraudlabel  \n",
       "0           1  \n",
       "1           1  \n",
       "2           1  \n",
       "3           0  \n",
       "4           1  "
      ]
     },
     "execution_count": 71,
     "metadata": {},
     "output_type": "execute_result"
    }
   ],
   "source": [
    "#string conversion\n",
    "from sklearn.preprocessing import LabelEncoder\n",
    "le=LabelEncoder()\n",
    "df['Currency']=le.fit_transform(df['Currency'])\n",
    "df.head()\n"
   ]
  },
  {
   "cell_type": "code",
   "execution_count": 72,
   "id": "c24a0119",
   "metadata": {},
   "outputs": [
    {
     "data": {
      "text/html": [
       "<div>\n",
       "<style scoped>\n",
       "    .dataframe tbody tr th:only-of-type {\n",
       "        vertical-align: middle;\n",
       "    }\n",
       "\n",
       "    .dataframe tbody tr th {\n",
       "        vertical-align: top;\n",
       "    }\n",
       "\n",
       "    .dataframe thead th {\n",
       "        text-align: right;\n",
       "    }\n",
       "</style>\n",
       "<table border=\"1\" class=\"dataframe\">\n",
       "  <thead>\n",
       "    <tr style=\"text-align: right;\">\n",
       "      <th></th>\n",
       "      <th>Cust ID</th>\n",
       "      <th>Card Num</th>\n",
       "      <th>Amount</th>\n",
       "      <th>Currency</th>\n",
       "      <th>Card Type</th>\n",
       "      <th>Trans Mode</th>\n",
       "      <th>Fraudlabel</th>\n",
       "    </tr>\n",
       "  </thead>\n",
       "  <tbody>\n",
       "    <tr>\n",
       "      <th>0</th>\n",
       "      <td>1</td>\n",
       "      <td>198765</td>\n",
       "      <td>285.88</td>\n",
       "      <td>1</td>\n",
       "      <td>1</td>\n",
       "      <td>1</td>\n",
       "      <td>1</td>\n",
       "    </tr>\n",
       "    <tr>\n",
       "      <th>1</th>\n",
       "      <td>2</td>\n",
       "      <td>198766</td>\n",
       "      <td>1777.32</td>\n",
       "      <td>0</td>\n",
       "      <td>0</td>\n",
       "      <td>1</td>\n",
       "      <td>1</td>\n",
       "    </tr>\n",
       "    <tr>\n",
       "      <th>2</th>\n",
       "      <td>3</td>\n",
       "      <td>198767</td>\n",
       "      <td>3939.01</td>\n",
       "      <td>2</td>\n",
       "      <td>2</td>\n",
       "      <td>0</td>\n",
       "      <td>1</td>\n",
       "    </tr>\n",
       "    <tr>\n",
       "      <th>3</th>\n",
       "      <td>4</td>\n",
       "      <td>198768</td>\n",
       "      <td>376.44</td>\n",
       "      <td>2</td>\n",
       "      <td>2</td>\n",
       "      <td>0</td>\n",
       "      <td>0</td>\n",
       "    </tr>\n",
       "    <tr>\n",
       "      <th>4</th>\n",
       "      <td>5</td>\n",
       "      <td>198769</td>\n",
       "      <td>1687.33</td>\n",
       "      <td>1</td>\n",
       "      <td>1</td>\n",
       "      <td>1</td>\n",
       "      <td>1</td>\n",
       "    </tr>\n",
       "  </tbody>\n",
       "</table>\n",
       "</div>"
      ],
      "text/plain": [
       "   Cust ID  Card Num   Amount  Currency  Card Type  Trans Mode  Fraudlabel\n",
       "0        1    198765   285.88         1          1           1           1\n",
       "1        2    198766  1777.32         0          0           1           1\n",
       "2        3    198767  3939.01         2          2           0           1\n",
       "3        4    198768   376.44         2          2           0           0\n",
       "4        5    198769  1687.33         1          1           1           1"
      ]
     },
     "execution_count": 72,
     "metadata": {},
     "output_type": "execute_result"
    }
   ],
   "source": [
    "df['Card Type']=le.fit_transform(df['Card Type'])\n",
    "df['Trans Mode']=le.fit_transform(df['Trans Mode'])\n",
    "df.head()"
   ]
  },
  {
   "cell_type": "code",
   "execution_count": 73,
   "id": "ba4c3d2c",
   "metadata": {},
   "outputs": [
    {
     "data": {
      "text/plain": [
       "array([[<Axes: title={'center': 'Cust ID'}>,\n",
       "        <Axes: title={'center': 'Card Num'}>,\n",
       "        <Axes: title={'center': 'Amount'}>],\n",
       "       [<Axes: title={'center': 'Currency'}>,\n",
       "        <Axes: title={'center': 'Card Type'}>,\n",
       "        <Axes: title={'center': 'Trans Mode'}>],\n",
       "       [<Axes: title={'center': 'Fraudlabel'}>, <Axes: >, <Axes: >]],\n",
       "      dtype=object)"
      ]
     },
     "execution_count": 73,
     "metadata": {},
     "output_type": "execute_result"
    },
    {
     "data": {
      "image/png": "[encoded data removed]",
      "text/plain": [
       "<Figure size 1600x1000 with 9 Axes>"
      ]
     },
     "metadata": {},
     "output_type": "display_data"
    }
   ],
   "source": [
    "df.hist(figsize=(16,10))"
   ]
  },
  {
   "cell_type": "code",
   "execution_count": 74,
   "id": "8f07c1e9",
   "metadata": {},
   "outputs": [
    {
     "data": {
      "text/html": [
       "<div>\n",
       "<style scoped>\n",
       "    .dataframe tbody tr th:only-of-type {\n",
       "        vertical-align: middle;\n",
       "    }\n",
       "\n",
       "    .dataframe tbody tr th {\n",
       "        vertical-align: top;\n",
       "    }\n",
       "\n",
       "    .dataframe thead th {\n",
       "        text-align: right;\n",
       "    }\n",
       "</style>\n",
       "<table border=\"1\" class=\"dataframe\">\n",
       "  <thead>\n",
       "    <tr style=\"text-align: right;\">\n",
       "      <th></th>\n",
       "      <th>Cust ID</th>\n",
       "      <th>Card Num</th>\n",
       "      <th>Amount</th>\n",
       "      <th>Currency</th>\n",
       "      <th>Card Type</th>\n",
       "      <th>Trans Mode</th>\n",
       "    </tr>\n",
       "  </thead>\n",
       "  <tbody>\n",
       "    <tr>\n",
       "      <th>0</th>\n",
       "      <td>1</td>\n",
       "      <td>198765</td>\n",
       "      <td>285.88</td>\n",
       "      <td>1</td>\n",
       "      <td>1</td>\n",
       "      <td>1</td>\n",
       "    </tr>\n",
       "    <tr>\n",
       "      <th>1</th>\n",
       "      <td>2</td>\n",
       "      <td>198766</td>\n",
       "      <td>1777.32</td>\n",
       "      <td>0</td>\n",
       "      <td>0</td>\n",
       "      <td>1</td>\n",
       "    </tr>\n",
       "    <tr>\n",
       "      <th>2</th>\n",
       "      <td>3</td>\n",
       "      <td>198767</td>\n",
       "      <td>3939.01</td>\n",
       "      <td>2</td>\n",
       "      <td>2</td>\n",
       "      <td>0</td>\n",
       "    </tr>\n",
       "    <tr>\n",
       "      <th>3</th>\n",
       "      <td>4</td>\n",
       "      <td>198768</td>\n",
       "      <td>376.44</td>\n",
       "      <td>2</td>\n",
       "      <td>2</td>\n",
       "      <td>0</td>\n",
       "    </tr>\n",
       "    <tr>\n",
       "      <th>4</th>\n",
       "      <td>5</td>\n",
       "      <td>198769</td>\n",
       "      <td>1687.33</td>\n",
       "      <td>1</td>\n",
       "      <td>1</td>\n",
       "      <td>1</td>\n",
       "    </tr>\n",
       "  </tbody>\n",
       "</table>\n",
       "</div>"
      ],
      "text/plain": [
       "   Cust ID  Card Num   Amount  Currency  Card Type  Trans Mode\n",
       "0        1    198765   285.88         1          1           1\n",
       "1        2    198766  1777.32         0          0           1\n",
       "2        3    198767  3939.01         2          2           0\n",
       "3        4    198768   376.44         2          2           0\n",
       "4        5    198769  1687.33         1          1           1"
      ]
     },
     "execution_count": 74,
     "metadata": {},
     "output_type": "execute_result"
    }
   ],
   "source": [
    "x=df.iloc[:,:-1]\n",
    "x.head()"
   ]
  },
  {
   "cell_type": "code",
   "execution_count": 75,
   "id": "9325266a",
   "metadata": {},
   "outputs": [
    {
     "data": {
      "text/html": [
       "<div>\n",
       "<style scoped>\n",
       "    .dataframe tbody tr th:only-of-type {\n",
       "        vertical-align: middle;\n",
       "    }\n",
       "\n",
       "    .dataframe tbody tr th {\n",
       "        vertical-align: top;\n",
       "    }\n",
       "\n",
       "    .dataframe thead th {\n",
       "        text-align: right;\n",
       "    }\n",
       "</style>\n",
       "<table border=\"1\" class=\"dataframe\">\n",
       "  <thead>\n",
       "    <tr style=\"text-align: right;\">\n",
       "      <th></th>\n",
       "      <th>Fraudlabel</th>\n",
       "    </tr>\n",
       "  </thead>\n",
       "  <tbody>\n",
       "    <tr>\n",
       "      <th>0</th>\n",
       "      <td>1</td>\n",
       "    </tr>\n",
       "    <tr>\n",
       "      <th>1</th>\n",
       "      <td>1</td>\n",
       "    </tr>\n",
       "    <tr>\n",
       "      <th>2</th>\n",
       "      <td>1</td>\n",
       "    </tr>\n",
       "  </tbody>\n",
       "</table>\n",
       "</div>"
      ],
      "text/plain": [
       "   Fraudlabel\n",
       "0           1\n",
       "1           1\n",
       "2           1"
      ]
     },
     "execution_count": 75,
     "metadata": {},
     "output_type": "execute_result"
    }
   ],
   "source": [
    "y=df.iloc[:,-1:]\n",
    "y.head(3)"
   ]
  },
  {
   "cell_type": "code",
   "execution_count": 76,
   "id": "67855816",
   "metadata": {},
   "outputs": [
    {
     "name": "stdout",
     "output_type": "stream",
     "text": [
      "******************Training Data shape***************\n",
      "\n",
      "Training data-x-Shape:\t (3200, 6)\n",
      "\n",
      "Training data-y-Shape:\t (3200, 1)\n",
      "\n",
      "******************Testing Data shape*****************\n",
      "\n",
      "Testing data(x-Input) shape:\t (800, 6)\n",
      "\n",
      "Testing data(y-outcome)shape:\t (800, 1)\n"
     ]
    }
   ],
   "source": [
    "#splitting of training and testing data\n",
    "xtrain,xtest,ytrain,ytest=train_test_split(x,y,test_size=0.2)\n",
    "print('******************Training Data shape***************\\n')\n",
    "print('Training data-x-Shape:\\t',xtrain.shape)\n",
    "print()\n",
    "print('Training data-y-Shape:\\t',ytrain.shape)\n",
    "print()\n",
    "print('******************Testing Data shape*****************\\n')\n",
    "print('Testing data(x-Input) shape:\\t',xtest.shape)\n",
    "print()\n",
    "print('Testing data(y-outcome)shape:\\t',ytest.shape)"
   ]
  },
  {
   "cell_type": "code",
   "execution_count": 77,
   "id": "b46e6fba",
   "metadata": {},
   "outputs": [
    {
     "name": "stdout",
     "output_type": "stream",
     "text": [
      "********************Logistic Regression**********************\n",
      "Training Started.......\n",
      "\n",
      "\n",
      "[LibLinear]Training completed.....\n",
      "\n",
      "Testing invoked......\n",
      "\n",
      "Predicted Class Labels are: \n",
      " [1 1 1 0 1 1 1 1 1 1 1 1 0 1 1 1 1 1 1 1 0 1 1 1 1 1 1 1 1 1 1 1 1 1 0 1 0\n",
      " 1 1 1 0 1 1 1 1 1 1 1 1 0 1 1 0 1 0 1 1 1 0 1 1 1 0 1 1 1 1 1 1 1 1 1 1 1\n",
      " 1 1 1 0 1 1 0 1 1 1 1 1 1 0 1 1 1 1 1 1 1 1 1 0 1 0 1 0 1 1 1 1 1 1 1 0 1\n",
      " 0 0 1 1 1 1 1 0 1 1 1 0 0 1 1 1 1 1 1 1 1 0 0 0 1 1 0 0 0 0 1 0 1 1 0 1 1\n",
      " 1 1 1 1 0 0 1 1 1 1 1 1 1 1 0 1 1 1 1 1 0 1 1 1 0 1 1 0 1 0 0 0 1 1 1 1 1\n",
      " 1 0 1 1 1 1 0 1 1 1 1 1 1 1 1 1 0 1 1 1 1 0 1 1 1 1 0 0 1 1 1 1 0 1 0 1 1\n",
      " 0 1 0 1 1 1 1 1 1 1 1 0 1 1 1 1 1 0 0 1 1 1 0 0 1 1 1 1 0 1 1 0 1 1 1 1 1\n",
      " 0 1 1 1 1 1 1 1 1 1 1 0 1 1 1 1 1 1 1 1 1 1 1 1 0 1 1 1 1 1 1 1 1 1 0 1 1\n",
      " 1 0 1 1 1 1 1 1 1 1 1 1 1 1 0 1 1 1 1 1 1 1 0 0 1 1 1 1 1 1 1 1 1 1 1 1 1\n",
      " 1 1 1 0 1 1 1 1 1 1 1 1 1 1 1 0 1 1 1 1 0 0 1 1 1 1 1 1 1 1 1 0 1 1 1 1 1\n",
      " 1 1 1 1 1 1 1 1 1 1 1 1 1 0 1 1 1 1 1 1 1 1 1 1 1 0 1 1 0 1 1 0 0 1 0 1 1\n",
      " 1 1 0 1 0 1 1 1 1 1 1 1 1 1 1 0 0 1 1 1 1 1 1 1 1 1 0 1 1 1 1 1 1 1 1 1 1\n",
      " 1 0 1 1 1 1 1 1 1 1 1 1 1 1 0 1 1 1 1 1 1 0 1 1 1 1 1 1 0 1 1 1 0 1 1 1 0\n",
      " 1 1 0 0 1 1 1 1 1 0 1 1 1 1 1 1 1 1 1 1 1 1 1 1 0 1 1 1 0 1 1 1 0 1 1 0 1\n",
      " 1 1 1 1 0 0 1 1 1 1 0 1 1 1 1 0 0 1 1 0 0 1 1 1 1 1 0 1 1 1 1 1 1 0 1 0 1\n",
      " 1 0 1 1 1 1 0 1 0 1 1 1 1 1 1 1 1 1 0 1 1 0 1 1 1 0 1 1 1 1 1 0 1 1 1 1 1\n",
      " 1 1 0 1 1 0 0 1 1 1 1 1 0 1 1 0 1 1 1 1 1 1 1 0 1 1 1 1 1 1 1 1 1 1 1 1 0\n",
      " 1 1 1 1 1 1 1 1 1 1 1 0 1 1 1 1 1 0 1 1 1 1 0 1 0 1 0 0 1 1 1 1 1 1 1 1 1\n",
      " 1 1 0 1 1 1 1 1 1 1 1 1 1 1 1 1 1 1 1 1 1 1 0 1 0 1 1 1 1 1 1 1 0 0 1 0 1\n",
      " 1 1 1 1 1 0 1 1 1 1 1 1 1 1 1 1 1 0 1 1 1 1 0 1 1 1 0 1 1 1 0 1 1 1 1 1 1\n",
      " 1 1 1 1 1 0 1 1 1 1 1 1 1 0 0 1 1 0 0 1 1 1 1 1 1 1 1 1 1 1 1 1 1 1 1 1 1\n",
      " 1 1 1 1 1 1 1 1 1 1 1 1 1 1 1 1 1 1 1 1 0 1 0]\n",
      "\n",
      "Testing is also completed....\n",
      "\n",
      "Testing samples are:\t 800\n"
     ]
    },
    {
     "name": "stderr",
     "output_type": "stream",
     "text": [
      "C:\\Users\\hp\\anaconda3\\Lib\\site-packages\\sklearn\\utils\\validation.py:1183: DataConversionWarning: A column-vector y was passed when a 1d array was expected. Please change the shape of y to (n_samples, ), for example using ravel().\n",
      "  y = column_or_1d(y, warn=True)\n"
     ]
    }
   ],
   "source": [
    "#invoke the log reg algorithm from sklearn\n",
    "log_reg=LogisticRegression(solver='liblinear',verbose=2)\n",
    "print('********************Logistic Regression**********************')\n",
    "#train the model\n",
    "print(\"Training Started.......\\n\")\n",
    "print()\n",
    "log_reg.fit(xtrain,ytrain)\n",
    "print('Training completed.....')\n",
    "print()\n",
    "#test the model\n",
    "print('Testing invoked......\\n')\n",
    "ypred=log_reg.predict(xtest)\n",
    "print('Predicted Class Labels are: \\n',ypred)\n",
    "print('\\nTesting is also completed....\\n')\n",
    "print('Testing samples are:\\t',len(ypred))"
   ]
  },
  {
   "cell_type": "code",
   "execution_count": 78,
   "id": "5e5b4423",
   "metadata": {},
   "outputs": [
    {
     "name": "stdout",
     "output_type": "stream",
     "text": [
      "*******************Performance Measures for Logistic Regression*************\n",
      "Accuracy Score:\t 0.50125\n",
      "\n",
      "Confusion Matrix:\n",
      " [[ 76 332]\n",
      " [ 67 325]]\n",
      "\n",
      "Classification Report:\n",
      "               precision    recall  f1-score   support\n",
      "\n",
      "           0       0.53      0.19      0.28       408\n",
      "           1       0.49      0.83      0.62       392\n",
      "\n",
      "    accuracy                           0.50       800\n",
      "   macro avg       0.51      0.51      0.45       800\n",
      "weighted avg       0.51      0.50      0.44       800\n",
      "\n",
      "\n",
      "Precision Score:\t 0.4946727549467275\n",
      "\n",
      "Recall Score:\t 0.8290816326530612\n",
      "\n",
      "F1 Score:\t 0.6196377502383222\n"
     ]
    }
   ],
   "source": [
    "#performance measures\n",
    "from sklearn.metrics import accuracy_score\n",
    "from sklearn.metrics import confusion_matrix\n",
    "from sklearn.metrics import classification_report\n",
    "from sklearn.metrics import precision_score, recall_score, f1_score\n",
    "\n",
    "\n",
    "print('*******************Performance Measures for Logistic Regression*************')\n",
    "print('Accuracy Score:\\t',accuracy_score(ytest,ypred))\n",
    "print()\n",
    "print('Confusion Matrix:\\n',confusion_matrix(ytest,ypred))\n",
    "print()\n",
    "print('Classification Report:\\n',classification_report(ytest,ypred))\n",
    "print()\n",
    "print('Precision Score:\\t',precision_score(ytest,ypred))\n",
    "print()\n",
    "print('Recall Score:\\t',recall_score(ytest,ypred))\n",
    "print()\n",
    "print('F1 Score:\\t',f1_score(ytest,ypred))"
   ]
  },
  {
   "cell_type": "code",
   "execution_count": 79,
   "id": "21d114f2",
   "metadata": {},
   "outputs": [
    {
     "data": {
      "text/plain": [
       "array([0, 1], dtype=int64)"
      ]
     },
     "execution_count": 79,
     "metadata": {},
     "output_type": "execute_result"
    }
   ],
   "source": [
    "log_reg.classes_"
   ]
  },
  {
   "cell_type": "code",
   "execution_count": 80,
   "id": "8d92bc5d",
   "metadata": {},
   "outputs": [
    {
     "data": {
      "text/plain": [
       "array([[ 4.31563025e-06,  1.73225048e-07, -1.08110730e-05,\n",
       "         1.31629255e-08,  9.03675935e-08,  2.62737928e-08]])"
      ]
     },
     "execution_count": 80,
     "metadata": {},
     "output_type": "execute_result"
    }
   ],
   "source": [
    "log_reg.coef_"
   ]
  },
  {
   "cell_type": "code",
   "execution_count": 81,
   "id": "62789166",
   "metadata": {},
   "outputs": [
    {
     "data": {
      "text/plain": [
       "<bound method LinearClassifierMixin.decision_function of LogisticRegression(solver='liblinear', verbose=2)>"
      ]
     },
     "execution_count": 81,
     "metadata": {},
     "output_type": "execute_result"
    }
   ],
   "source": [
    "log_reg.decision_function"
   ]
  },
  {
   "cell_type": "code",
   "execution_count": 82,
   "id": "a4c84c14",
   "metadata": {},
   "outputs": [
    {
     "data": {
      "text/plain": [
       "False"
      ]
     },
     "execution_count": 82,
     "metadata": {},
     "output_type": "execute_result"
    }
   ],
   "source": [
    "log_reg.dual\n"
   ]
  },
  {
   "cell_type": "code",
   "execution_count": 83,
   "id": "afcda6df",
   "metadata": {},
   "outputs": [
    {
     "data": {
      "text/plain": [
       "array(['Cust ID', 'Card Num', 'Amount', 'Currency', 'Card Type',\n",
       "       'Trans Mode'], dtype=object)"
      ]
     },
     "execution_count": 83,
     "metadata": {},
     "output_type": "execute_result"
    }
   ],
   "source": [
    "log_reg.feature_names_in_"
   ]
  },
  {
   "cell_type": "code",
   "execution_count": 84,
   "id": "b9b45a25",
   "metadata": {},
   "outputs": [
    {
     "data": {
      "text/plain": [
       "{'C': 1.0,\n",
       " 'class_weight': None,\n",
       " 'dual': False,\n",
       " 'fit_intercept': True,\n",
       " 'intercept_scaling': 1,\n",
       " 'l1_ratio': None,\n",
       " 'max_iter': 100,\n",
       " 'multi_class': 'auto',\n",
       " 'n_jobs': None,\n",
       " 'penalty': 'l2',\n",
       " 'random_state': None,\n",
       " 'solver': 'liblinear',\n",
       " 'tol': 0.0001,\n",
       " 'verbose': 2,\n",
       " 'warm_start': False}"
      ]
     },
     "execution_count": 84,
     "metadata": {},
     "output_type": "execute_result"
    }
   ],
   "source": [
    "log_reg.get_params()"
   ]
  },
  {
   "cell_type": "code",
   "execution_count": 85,
   "id": "f53be0bb",
   "metadata": {},
   "outputs": [
    {
     "data": {
      "text/plain": [
       "array([0.50692077, 0.5078872 , 0.50464792, 0.49964624, 0.51098758,\n",
       "       0.50328961, 0.50617498, 0.5108021 , 0.50776252, 0.50580255,\n",
       "       0.50308493, 0.50503585, 0.49836412, 0.5044391 , 0.50271337,\n",
       "       0.5043229 , 0.50538814, 0.50242517, 0.50582374, 0.50878912,\n",
       "       0.49564812, 0.51012526, 0.50488323, 0.50375851, 0.50514223,\n",
       "       0.50657272, 0.50585104, 0.50197986, 0.51059773, 0.5062238 ,\n",
       "       0.50495408, 0.50619876, 0.50134188, 0.50116552, 0.49967686,\n",
       "       0.50454835, 0.49839965, 0.50013921, 0.50956461, 0.50976494,\n",
       "       0.49738953, 0.50917144, 0.5065222 , 0.50251267, 0.51047679,\n",
       "       0.50818708, 0.50128411, 0.50485767, 0.50365598, 0.49681974,\n",
       "       0.50002348, 0.50384276, 0.49836257, 0.50267068, 0.49977705,\n",
       "       0.50574812, 0.50480226, 0.50716566, 0.49941412, 0.5034473 ,\n",
       "       0.50491499, 0.50011563, 0.49859158, 0.50233536, 0.5041697 ,\n",
       "       0.50104897, 0.50476091, 0.5119711 , 0.50740697, 0.50365132,\n",
       "       0.5101516 , 0.50237586, 0.50244392, 0.50970436, 0.50118172,\n",
       "       0.50374091, 0.50167656, 0.49667542, 0.50230611, 0.50038326,\n",
       "       0.49839353, 0.50737468, 0.50082278, 0.50108371, 0.51058897,\n",
       "       0.51192281, 0.50602157, 0.49882148, 0.50455396, 0.50536541,\n",
       "       0.50714637, 0.50888548, 0.50348673, 0.50044069, 0.50240801,\n",
       "       0.50604658, 0.50499144, 0.49861982, 0.50067131, 0.49790906,\n",
       "       0.5056453 , 0.49933486, 0.50507802, 0.50722458, 0.50922379,\n",
       "       0.50257154, 0.50208709, 0.50361565, 0.50071042, 0.49768782,\n",
       "       0.50157392, 0.49983613, 0.49795771, 0.50049792, 0.50438445,\n",
       "       0.50705858, 0.50911296, 0.50849555, 0.49934034, 0.50469981,\n",
       "       0.50717704, 0.50651001, 0.49785717, 0.49878262, 0.50387062,\n",
       "       0.50887576, 0.5030552 , 0.50157479, 0.50614523, 0.50428149,\n",
       "       0.51286218, 0.50249145, 0.49708271, 0.49957355, 0.49834816,\n",
       "       0.50645979, 0.5041395 , 0.4986572 , 0.49780806, 0.49942357,\n",
       "       0.49640503, 0.50736307, 0.49979804, 0.50275851, 0.51079572,\n",
       "       0.49883233, 0.50771961, 0.50472803, 0.50321538, 0.50940583,\n",
       "       0.50744143, 0.5045111 , 0.49787857, 0.49936723, 0.50300393,\n",
       "       0.50708813, 0.50043877, 0.50158198, 0.50509893, 0.50976149,\n",
       "       0.50141622, 0.50679303, 0.49905893, 0.50081742, 0.50290657,\n",
       "       0.5041212 , 0.50772677, 0.50932845, 0.49855009, 0.50565421,\n",
       "       0.50621673, 0.50834141, 0.49759958, 0.50086481, 0.51031091,\n",
       "       0.49906214, 0.50166054, 0.49825887, 0.49658492, 0.49667441,\n",
       "       0.5082311 , 0.50671867, 0.50853115, 0.50051153, 0.50980066,\n",
       "       0.50441912, 0.49596387, 0.50824839, 0.50456791, 0.50177441,\n",
       "       0.5018215 , 0.49846912, 0.50308492, 0.50044508, 0.50977121,\n",
       "       0.50510406, 0.50090029, 0.50565182, 0.50173146, 0.50648618,\n",
       "       0.50518758, 0.49790296, 0.50039987, 0.50386461, 0.50636321,\n",
       "       0.50075017, 0.49640059, 0.50152816, 0.50496218, 0.50778532,\n",
       "       0.50614339, 0.49946453, 0.49886881, 0.50642115, 0.50807569,\n",
       "       0.50996346, 0.50101637, 0.49766077, 0.50322133, 0.49864269,\n",
       "       0.50099187, 0.50380714, 0.49743554, 0.50912378, 0.49924806,\n",
       "       0.50497235, 0.50389643, 0.5075898 , 0.50346753, 0.5071381 ,\n",
       "       0.50611499, 0.51077016, 0.50084216, 0.49871156, 0.50223661,\n",
       "       0.50572067, 0.50135664, 0.50275792, 0.50461422, 0.49699665,\n",
       "       0.49792185, 0.50776489, 0.50386943, 0.51218703, 0.49989523,\n",
       "       0.4964485 , 0.50182942, 0.5035081 , 0.50708092, 0.50915634,\n",
       "       0.49561355, 0.50661901, 0.5048748 , 0.49947034, 0.5015558 ,\n",
       "       0.5107215 , 0.5079108 , 0.5025101 , 0.50719295, 0.49828664,\n",
       "       0.50430098, 0.50116768, 0.51098604, 0.50533927, 0.5005368 ,\n",
       "       0.51002462, 0.50872717, 0.50748647, 0.50169912, 0.50210848,\n",
       "       0.49764036, 0.50419045, 0.50052432, 0.50605761, 0.50876979,\n",
       "       0.50637727, 0.50517318, 0.51105035, 0.5095782 , 0.51135436,\n",
       "       0.50457809, 0.51121705, 0.50614339, 0.49872532, 0.503581  ,\n",
       "       0.50170569, 0.50595614, 0.51048112, 0.5005151 , 0.50163132,\n",
       "       0.50012803, 0.50331826, 0.50346665, 0.49990127, 0.50564338,\n",
       "       0.50525836, 0.50258155, 0.49929995, 0.50496158, 0.5015617 ,\n",
       "       0.50732761, 0.50855647, 0.5008487 , 0.50749076, 0.50449953,\n",
       "       0.50771801, 0.50636346, 0.5003212 , 0.50557059, 0.50663981,\n",
       "       0.49825342, 0.50997772, 0.50226702, 0.50349092, 0.50905581,\n",
       "       0.50640874, 0.51027492, 0.50640637, 0.49917755, 0.49944827,\n",
       "       0.5094636 , 0.50889362, 0.50374052, 0.51019609, 0.50495141,\n",
       "       0.50662788, 0.50332159, 0.50390594, 0.50995364, 0.50843519,\n",
       "       0.50326762, 0.51186242, 0.50196695, 0.50789758, 0.50711161,\n",
       "       0.50146342, 0.49975887, 0.50844136, 0.50104335, 0.50652677,\n",
       "       0.50727534, 0.50383386, 0.50011433, 0.50094224, 0.50954876,\n",
       "       0.50380622, 0.50538745, 0.51260082, 0.49859658, 0.5120898 ,\n",
       "       0.50544207, 0.51065678, 0.50975469, 0.49846869, 0.49871801,\n",
       "       0.50528516, 0.50711382, 0.50540609, 0.5059298 , 0.50188936,\n",
       "       0.50281749, 0.50478939, 0.50841233, 0.50684477, 0.49778969,\n",
       "       0.50621199, 0.50670865, 0.5009977 , 0.50450642, 0.50905009,\n",
       "       0.50252283, 0.50656905, 0.50197688, 0.5038568 , 0.50703607,\n",
       "       0.51183058, 0.50029641, 0.50065578, 0.50301325, 0.50110852,\n",
       "       0.5114122 , 0.50315422, 0.50994267, 0.49816656, 0.50278632,\n",
       "       0.5015286 , 0.50180241, 0.50908279, 0.50071376, 0.50275552,\n",
       "       0.50810833, 0.50997138, 0.50146179, 0.50189721, 0.50860299,\n",
       "       0.49648819, 0.50014664, 0.50882848, 0.49615942, 0.50950747,\n",
       "       0.50817424, 0.49551153, 0.49984299, 0.5014077 , 0.4989969 ,\n",
       "       0.5009164 , 0.50131286, 0.50214976, 0.50822529, 0.49872773,\n",
       "       0.50448445, 0.49954853, 0.50083701, 0.50953901, 0.50962591,\n",
       "       0.50215955, 0.50698956, 0.50818414, 0.50981852, 0.51268774,\n",
       "       0.51134846, 0.51011022, 0.49797991, 0.49848655, 0.50671649,\n",
       "       0.50793452, 0.50702591, 0.50178271, 0.50155686, 0.5008392 ,\n",
       "       0.50165378, 0.50074175, 0.50190985, 0.49762966, 0.51033364,\n",
       "       0.5104756 , 0.50807017, 0.50312777, 0.50331227, 0.5010119 ,\n",
       "       0.51003253, 0.50601311, 0.50503132, 0.50530421, 0.50090689,\n",
       "       0.49896387, 0.51144668, 0.50144355, 0.50541109, 0.50525743,\n",
       "       0.50905834, 0.50398164, 0.5109073 , 0.5013245 , 0.50610835,\n",
       "       0.50084685, 0.50075553, 0.50319031, 0.49857846, 0.51021034,\n",
       "       0.51133715, 0.50800954, 0.50413151, 0.50183698, 0.5030138 ,\n",
       "       0.49988412, 0.5028795 , 0.50515186, 0.50765307, 0.50760836,\n",
       "       0.50769863, 0.50910333, 0.49703777, 0.50208387, 0.51109543,\n",
       "       0.50917788, 0.49949528, 0.50541541, 0.50003121, 0.50818072,\n",
       "       0.49659785, 0.50079115, 0.50188265, 0.49670017, 0.49768998,\n",
       "       0.51181504, 0.50124522, 0.50472879, 0.5030667 , 0.50589755,\n",
       "       0.49600392, 0.50767459, 0.50805106, 0.50768015, 0.50369917,\n",
       "       0.51034903, 0.50410394, 0.51013461, 0.50882375, 0.50548962,\n",
       "       0.50213182, 0.50783557, 0.50839662, 0.5039206 , 0.51091241,\n",
       "       0.49863682, 0.50110414, 0.50722163, 0.50083788, 0.49759578,\n",
       "       0.50919366, 0.50884024, 0.50491925, 0.49860761, 0.50823508,\n",
       "       0.50726838, 0.49935401, 0.5038004 , 0.50635011, 0.50380772,\n",
       "       0.500592  , 0.50348287, 0.49928555, 0.49866087, 0.50993304,\n",
       "       0.50204706, 0.50678967, 0.50213075, 0.49898355, 0.50381375,\n",
       "       0.50337333, 0.50494383, 0.51083357, 0.498415  , 0.49867082,\n",
       "       0.50834473, 0.50482648, 0.49965521, 0.49957873, 0.50265497,\n",
       "       0.50265334, 0.50390935, 0.50724774, 0.50413698, 0.49911692,\n",
       "       0.5001364 , 0.50226222, 0.50605848, 0.50384999, 0.50309312,\n",
       "       0.50023102, 0.49789256, 0.5065353 , 0.4993824 , 0.50162559,\n",
       "       0.50975211, 0.49847259, 0.50422645, 0.50870197, 0.50658321,\n",
       "       0.50912041, 0.49991906, 0.50039515, 0.49755173, 0.50429701,\n",
       "       0.50883915, 0.50875817, 0.5038134 , 0.50276626, 0.5087161 ,\n",
       "       0.50892301, 0.50544011, 0.50521419, 0.49799034, 0.50614314,\n",
       "       0.50279108, 0.49980027, 0.50720527, 0.50995051, 0.50374037,\n",
       "       0.49887173, 0.50292918, 0.50958998, 0.50020449, 0.50850136,\n",
       "       0.50343476, 0.49833194, 0.51093919, 0.50181332, 0.50035271,\n",
       "       0.50477893, 0.5003055 , 0.50576379, 0.50759702, 0.49630794,\n",
       "       0.50621024, 0.50024898, 0.495644  , 0.49912374, 0.50516485,\n",
       "       0.5012156 , 0.50879322, 0.5022491 , 0.5076495 , 0.49836575,\n",
       "       0.50668718, 0.5003449 , 0.4999743 , 0.50504789, 0.50494581,\n",
       "       0.50545463, 0.50945527, 0.51154843, 0.50330501, 0.50515674,\n",
       "       0.49862713, 0.50697558, 0.50693836, 0.50661498, 0.51249001,\n",
       "       0.50169932, 0.50335088, 0.50405226, 0.50852977, 0.50268779,\n",
       "       0.50590709, 0.51079237, 0.50482811, 0.49742222, 0.50330561,\n",
       "       0.51107184, 0.50389374, 0.51086145, 0.50967249, 0.50237302,\n",
       "       0.50460848, 0.51074243, 0.50393938, 0.50411274, 0.50178227,\n",
       "       0.49858682, 0.50205594, 0.50552819, 0.50715036, 0.51114824,\n",
       "       0.50884503, 0.4979701 , 0.50622959, 0.50058952, 0.5085528 ,\n",
       "       0.50624211, 0.49768589, 0.5077012 , 0.49710434, 0.5056424 ,\n",
       "       0.49809261, 0.49708995, 0.50045722, 0.50687677, 0.50125573,\n",
       "       0.50966098, 0.50368811, 0.5069562 , 0.50874766, 0.50939219,\n",
       "       0.50294937, 0.50171211, 0.5042245 , 0.49610744, 0.50885691,\n",
       "       0.5071897 , 0.50113806, 0.50378718, 0.50250713, 0.50719364,\n",
       "       0.50035015, 0.50477157, 0.5048532 , 0.50676085, 0.50726413,\n",
       "       0.50823471, 0.51070155, 0.5050564 , 0.50360278, 0.50832759,\n",
       "       0.5087654 , 0.5044955 , 0.51016647, 0.49775167, 0.50285327,\n",
       "       0.4995486 , 0.50564029, 0.50049696, 0.50311994, 0.51177033,\n",
       "       0.50764334, 0.50700551, 0.50387613, 0.49879378, 0.49860538,\n",
       "       0.50222864, 0.49567805, 0.50037908, 0.50300645, 0.50566965,\n",
       "       0.50994144, 0.50996926, 0.51138031, 0.4978266 , 0.50464243,\n",
       "       0.5039079 , 0.5013572 , 0.50264911, 0.50208567, 0.50217726,\n",
       "       0.50338371, 0.50860504, 0.50015093, 0.50879683, 0.50931549,\n",
       "       0.49977964, 0.50101645, 0.50866703, 0.5050983 , 0.50805836,\n",
       "       0.4972373 , 0.50278067, 0.51094564, 0.50237742, 0.49756625,\n",
       "       0.5082218 , 0.50965721, 0.5071476 , 0.4993947 , 0.50567956,\n",
       "       0.50568925, 0.50614713, 0.50210758, 0.500201  , 0.50969068,\n",
       "       0.5094386 , 0.50487286, 0.50909544, 0.51078512, 0.50624116,\n",
       "       0.49758817, 0.50377303, 0.50476438, 0.50964669, 0.50568489,\n",
       "       0.50126163, 0.51061707, 0.50694305, 0.49626055, 0.49917379,\n",
       "       0.50913905, 0.51138972, 0.49727999, 0.49902381, 0.50972459,\n",
       "       0.50410076, 0.5058909 , 0.50852011, 0.50046487, 0.50532951,\n",
       "       0.5022752 , 0.50439619, 0.50583928, 0.50990813, 0.50265374,\n",
       "       0.50492732, 0.5034487 , 0.50850059, 0.50377685, 0.51172615,\n",
       "       0.51111155, 0.50805894, 0.51039054, 0.50331747, 0.50017126,\n",
       "       0.50176288, 0.50023902, 0.50224879, 0.51013598, 0.50068118,\n",
       "       0.50302639, 0.5020654 , 0.50725749, 0.50398652, 0.50958233,\n",
       "       0.50131132, 0.50277121, 0.50209274, 0.50267289, 0.50858536,\n",
       "       0.51186368, 0.50095104, 0.49639244, 0.50611877, 0.49841644])"
      ]
     },
     "execution_count": 85,
     "metadata": {},
     "output_type": "execute_result"
    }
   ],
   "source": [
    "#roc curve\n",
    "y_probs=log_reg.predict_proba(xtest)[:,1]\n",
    "y_probs"
   ]
  },
  {
   "cell_type": "code",
   "execution_count": 86,
   "id": "3ad5c881",
   "metadata": {},
   "outputs": [
    {
     "data": {
      "image/png": "[encoded data removed]",
      "text/plain": [
       "<Figure size 800x600 with 1 Axes>"
      ]
     },
     "metadata": {},
     "output_type": "display_data"
    }
   ],
   "source": [
    "from sklearn.metrics import roc_curve,roc_auc_score,auc\n",
    "\n",
    "#Calculate ROC & AUC\n",
    "fpr,tpr,thresholds=roc_curve(ytest,y_probs)\n",
    "roc_auc=auc(fpr,tpr)\n",
    "\n",
    "#plot ROC Curve\n",
    "plt.figure(figsize=(8,6))\n",
    "plt.plot(fpr,tpr,label='ROC Curve')\n",
    "plt.xlabel('False Positive Rate')\n",
    "plt.ylabel('True Positive Rate')\n",
    "plt.title('ROC Curve')\n",
    "plt.legend()\n",
    "plt.show()"
   ]
  },
  {
   "cell_type": "code",
   "execution_count": 87,
   "id": "026c22eb",
   "metadata": {},
   "outputs": [
    {
     "data": {
      "text/plain": [
       "0.5297431472589036"
      ]
     },
     "execution_count": 87,
     "metadata": {},
     "output_type": "execute_result"
    }
   ],
   "source": [
    "#Area \n",
    "roc_auc"
   ]
  },
  {
   "cell_type": "code",
   "execution_count": 88,
   "id": "eca685e4",
   "metadata": {},
   "outputs": [
    {
     "data": {
      "text/plain": [
       "array([[ 76, 332],\n",
       "       [ 67, 325]], dtype=int64)"
      ]
     },
     "execution_count": 88,
     "metadata": {},
     "output_type": "execute_result"
    }
   ],
   "source": [
    "cm=confusion_matrix(ytest,ypred)\n",
    "cm"
   ]
  },
  {
   "cell_type": "code",
   "execution_count": 89,
   "id": "a3a1d9f2",
   "metadata": {},
   "outputs": [],
   "source": [
    "#feature engineering\n",
    "#Scaling the model\n",
    "from sklearn.preprocessing import StandardScaler\n",
    "sc=StandardScaler()\n",
    "sc_x=sc.fit_transform(x)"
   ]
  },
  {
   "cell_type": "code",
   "execution_count": 90,
   "id": "1a9f2b43",
   "metadata": {},
   "outputs": [
    {
     "data": {
      "text/plain": [
       "(4000, 6)"
      ]
     },
     "execution_count": 90,
     "metadata": {},
     "output_type": "execute_result"
    }
   ],
   "source": [
    "sc_x.shape"
   ]
  },
  {
   "cell_type": "code",
   "execution_count": 91,
   "id": "12c49f57",
   "metadata": {},
   "outputs": [
    {
     "data": {
      "text/plain": [
       "array([-1.73161785, -1.73161785, -1.51916544, -0.01018455,  0.        ,\n",
       "        1.02943297])"
      ]
     },
     "execution_count": 91,
     "metadata": {},
     "output_type": "execute_result"
    }
   ],
   "source": [
    "sc_x[0]"
   ]
  },
  {
   "cell_type": "code",
   "execution_count": 92,
   "id": "81c6fe1c",
   "metadata": {},
   "outputs": [
    {
     "data": {
      "text/plain": [
       "array([[-1.44436413e+00, -1.44436413e+00,  2.09463690e-01,\n",
       "         1.24130263e+00, -2.29819887e-03, -9.56567272e-01],\n",
       "       [ 1.10550073e+00,  1.10550073e+00, -9.38475693e-01,\n",
       "         1.24130263e+00,  1.22340786e+00, -9.56567272e-01],\n",
       "       [-3.14545957e-01, -3.14545957e-01, -3.40880691e-01,\n",
       "         1.24130263e+00, -2.29819887e-03, -9.56567272e-01],\n",
       "       ...,\n",
       "       [-7.52801820e-02, -7.52801820e-02, -1.09774217e+00,\n",
       "         1.54969118e-03, -2.29819887e-03, -9.56567272e-01],\n",
       "       [-1.65858042e+00, -1.65858042e+00, -5.14800579e-01,\n",
       "         1.54969118e-03,  1.22340786e+00,  1.04540478e+00],\n",
       "       [ 7.96269156e-01,  7.96269156e-01,  6.27872839e-01,\n",
       "         1.24130263e+00,  1.22340786e+00,  1.04540478e+00]])"
      ]
     },
     "execution_count": 92,
     "metadata": {},
     "output_type": "execute_result"
    }
   ],
   "source": [
    "sc_train_x=sc.fit_transform(xtrain)\n",
    "sc_train_x"
   ]
  },
  {
   "cell_type": "code",
   "execution_count": 93,
   "id": "08021253",
   "metadata": {},
   "outputs": [
    {
     "data": {
      "text/plain": [
       "array([[-1.5691678 , -1.5691678 , -1.23355164, -0.05622665, -1.21485146,\n",
       "         0.96801137],\n",
       "       [-1.50265131, -1.50265131, -1.46157953, -1.27193806,  1.23321194,\n",
       "         0.96801137],\n",
       "       [ 0.39919522,  0.39919522,  0.00760876, -0.05622665,  0.00918024,\n",
       "         0.96801137],\n",
       "       ...,\n",
       "       [-1.65843993, -1.65843993,  1.46100683, -0.05622665, -1.21485146,\n",
       "        -1.03304572],\n",
       "       [-0.72020731, -0.72020731, -0.744363  , -1.27193806,  0.00918024,\n",
       "         0.96801137],\n",
       "       [-0.65631647, -0.65631647,  1.26977613, -0.05622665,  0.00918024,\n",
       "         0.96801137]])"
      ]
     },
     "execution_count": 93,
     "metadata": {},
     "output_type": "execute_result"
    }
   ],
   "source": [
    "sc_test_x=sc.fit_transform(xtest)\n",
    "sc_test_x"
   ]
  },
  {
   "cell_type": "code",
   "execution_count": 94,
   "id": "32ae8edb",
   "metadata": {},
   "outputs": [
    {
     "name": "stdout",
     "output_type": "stream",
     "text": [
      "********************Logistic Regression**********************\n",
      "Training Started.......\n",
      "\n",
      "\n",
      "[LibLinear]Training completed.....\n",
      "\n",
      "Testing invoked......\n",
      "\n",
      "Predicted Class Labels are: \n",
      " [0 1 1 1 0 0 0 0 1 0 0 1 1 1 1 0 0 0 0 0 1 1 1 1 1 1 0 1 0 1 0 1 1 1 0 1 0\n",
      " 1 1 1 1 1 1 1 1 1 0 1 1 1 1 1 0 0 0 1 0 0 1 0 1 0 0 0 0 0 0 0 0 1 1 1 0 1\n",
      " 0 0 1 1 1 1 0 0 1 1 1 1 0 1 0 1 1 1 1 0 0 1 1 0 1 1 0 0 0 1 1 0 0 1 1 0 0\n",
      " 1 0 1 1 0 1 1 0 0 0 1 0 1 1 1 1 1 1 1 1 0 1 1 0 1 1 1 1 1 0 1 0 0 1 0 1 1\n",
      " 0 1 0 0 0 0 0 1 0 1 1 1 1 1 1 0 0 1 0 1 1 1 1 0 0 1 1 1 0 0 1 1 1 1 1 1 1\n",
      " 0 1 1 0 1 0 0 1 0 1 0 1 1 1 1 0 1 0 0 0 1 0 1 1 0 0 0 0 0 1 1 1 0 1 0 0 1\n",
      " 1 1 1 1 0 1 1 0 1 0 0 0 1 0 0 1 0 0 0 0 1 1 1 1 1 0 0 1 0 1 1 0 1 1 0 1 1\n",
      " 1 1 0 1 1 0 1 0 1 0 1 1 0 0 1 0 0 0 1 1 1 0 1 1 0 1 0 0 1 1 1 1 0 0 0 1 0\n",
      " 0 0 1 0 1 1 1 0 1 0 0 1 1 0 0 1 0 1 1 0 0 1 1 1 1 1 0 1 0 1 1 1 1 1 1 0 0\n",
      " 0 0 1 1 1 0 1 1 1 1 0 1 0 1 1 0 1 0 1 1 1 1 0 1 1 0 0 1 1 1 1 1 1 1 0 0 1\n",
      " 1 1 0 1 1 1 0 0 1 0 1 1 1 1 1 1 0 1 0 0 0 1 0 0 1 1 1 1 0 1 1 1 0 1 1 1 0\n",
      " 1 0 1 0 1 1 1 0 0 1 1 1 1 1 0 1 0 0 1 1 0 0 1 0 1 1 0 1 0 0 0 0 0 1 1 1 1\n",
      " 1 1 0 1 1 1 0 0 1 0 1 0 0 1 1 1 1 1 1 0 1 1 1 1 1 0 1 1 0 1 1 1 0 0 0 0 1\n",
      " 1 0 0 1 1 0 0 0 1 0 0 1 1 1 1 0 1 1 0 0 1 1 0 1 0 0 1 1 1 1 1 0 0 1 1 0 1\n",
      " 0 0 0 0 0 0 0 0 0 0 0 0 0 0 1 1 0 1 0 1 1 1 1 0 0 1 0 0 0 1 1 1 1 0 1 0 1\n",
      " 0 1 0 0 0 1 1 0 0 1 0 1 0 0 1 0 0 0 0 0 0 0 0 1 1 1 1 0 0 1 0 1 1 1 1 0 1\n",
      " 1 1 1 1 1 1 1 0 0 1 1 1 0 0 1 0 1 1 1 0 1 0 1 1 1 1 1 1 1 1 1 1 1 0 0 0 0\n",
      " 0 1 1 1 1 1 1 0 1 1 1 1 1 0 1 0 1 0 0 1 1 0 1 1 1 0 1 1 1 0 1 0 1 1 0 1 0\n",
      " 0 0 0 0 1 1 0 1 1 1 0 0 0 1 0 1 0 1 1 1 0 1 1 1 1 0 0 1 1 0 1 0 1 1 0 1 0\n",
      " 0 1 1 1 1 0 0 0 1 0 1 0 0 1 0 1 1 1 0 1 0 1 0 1 1 1 1 1 0 1 0 1 0 1 1 0 1\n",
      " 1 0 1 0 1 1 1 1 1 1 0 1 0 0 0 1 1 1 0 1 0 1 0 1 1 0 1 0 0 1 1 0 0 1 0 1 1\n",
      " 1 0 0 1 1 0 1 0 0 0 1 0 0 1 0 0 1 0 1 0 0 1 1]\n",
      "\n",
      "Testing is also completed....\n",
      "\n",
      "Testing samples are:\t 800\n"
     ]
    },
    {
     "name": "stderr",
     "output_type": "stream",
     "text": [
      "C:\\Users\\hp\\anaconda3\\Lib\\site-packages\\sklearn\\utils\\validation.py:1183: DataConversionWarning: A column-vector y was passed when a 1d array was expected. Please change the shape of y to (n_samples, ), for example using ravel().\n",
      "  y = column_or_1d(y, warn=True)\n"
     ]
    }
   ],
   "source": [
    "#after scaling\n",
    "#Logistic Regression Model\n",
    "log_reg_sc=LogisticRegression(solver='liblinear',verbose=2)\n",
    "print('********************Logistic Regression**********************')\n",
    "#train the model\n",
    "print(\"Training Started.......\\n\")\n",
    "print()\n",
    "log_reg_sc.fit(sc_train_x,ytrain)\n",
    "print('Training completed.....')\n",
    "print()\n",
    "#test the model\n",
    "print('Testing invoked......\\n')\n",
    "ypred=log_reg_sc.predict(sc_test_x)\n",
    "print('Predicted Class Labels are: \\n',ypred)\n",
    "print('\\nTesting is also completed....\\n')\n",
    "print('Testing samples are:\\t',len(ypred))"
   ]
  },
  {
   "cell_type": "code",
   "execution_count": 95,
   "id": "671c27d9",
   "metadata": {},
   "outputs": [
    {
     "name": "stdout",
     "output_type": "stream",
     "text": [
      "*******************Performance Measures for Logistic Regression*************\n",
      "Accuracy Score:\t 0.54625\n",
      "\n",
      "Confusion Matrix:\n",
      " [[192 216]\n",
      " [147 245]]\n",
      "\n",
      "Classification Report:\n",
      "               precision    recall  f1-score   support\n",
      "\n",
      "           0       0.57      0.47      0.51       408\n",
      "           1       0.53      0.62      0.57       392\n",
      "\n",
      "    accuracy                           0.55       800\n",
      "   macro avg       0.55      0.55      0.54       800\n",
      "weighted avg       0.55      0.55      0.54       800\n",
      "\n",
      "\n",
      "Precision Score:\t 0.5314533622559653\n",
      "\n",
      "Recall Score:\t 0.625\n",
      "\n",
      "F1 Score:\t 0.5744431418522861\n"
     ]
    }
   ],
   "source": [
    "#Performance Measures for log reg model which is built after scaling\n",
    "from sklearn.metrics import accuracy_score\n",
    "from sklearn.metrics import confusion_matrix\n",
    "from sklearn.metrics import classification_report\n",
    "from sklearn.metrics import precision_score, recall_score, f1_score\n",
    "\n",
    "\n",
    "print('*******************Performance Measures for Logistic Regression*************')\n",
    "print('Accuracy Score:\\t',accuracy_score(ytest,ypred))\n",
    "print()\n",
    "print('Confusion Matrix:\\n',confusion_matrix(ytest,ypred))\n",
    "print()\n",
    "print('Classification Report:\\n',classification_report(ytest,ypred))\n",
    "print()\n",
    "print('Precision Score:\\t',precision_score(ytest,ypred))\n",
    "print()\n",
    "print('Recall Score:\\t',recall_score(ytest,ypred))\n",
    "print()\n",
    "print('F1 Score:\\t',f1_score(ytest,ypred))"
   ]
  },
  {
   "cell_type": "code",
   "execution_count": 96,
   "id": "1450bb8f",
   "metadata": {},
   "outputs": [],
   "source": [
    "from imblearn.over_sampling import RandomOverSampler"
   ]
  },
  {
   "cell_type": "code",
   "execution_count": 97,
   "id": "540bfe30",
   "metadata": {},
   "outputs": [],
   "source": [
    "ros=RandomOverSampler(random_state=42)\n",
    "ros_x,ros_y=ros.fit_resample(sc_train_x,ytrain)"
   ]
  },
  {
   "cell_type": "code",
   "execution_count": 98,
   "id": "047b462d",
   "metadata": {},
   "outputs": [
    {
     "name": "stdout",
     "output_type": "stream",
     "text": [
      "********************Logistic Regression with oversampling data(RandomOverSampler)**********************\n",
      "Training Started.......\n",
      "\n",
      "\n",
      "[LibLinear]Training completed.....\n",
      "\n",
      "Testing invoked......\n",
      "\n",
      "Predicted Class Labels are: \n",
      " [0 1 1 1 0 0 0 0 1 0 0 0 1 1 1 0 0 0 0 0 0 1 0 1 1 1 0 1 0 1 0 0 1 1 0 0 0\n",
      " 1 1 1 0 1 0 1 1 1 0 1 1 0 1 1 0 0 0 1 0 0 1 0 1 0 0 0 0 0 0 0 0 1 1 1 0 1\n",
      " 0 0 1 1 1 1 0 0 0 1 1 1 0 1 0 1 1 1 1 0 0 1 1 0 1 1 0 0 0 1 1 0 0 1 1 0 0\n",
      " 1 0 1 1 0 1 0 0 0 0 1 0 1 1 1 1 1 1 0 1 0 1 1 0 1 1 1 1 1 0 1 0 0 1 0 1 1\n",
      " 0 1 0 0 0 0 0 1 0 1 0 1 1 1 1 0 0 1 0 1 1 1 1 0 0 1 0 0 0 0 1 1 1 1 1 1 1\n",
      " 0 1 1 0 1 0 0 1 0 1 0 1 1 1 1 0 1 0 0 0 1 0 1 1 0 0 0 0 0 1 1 1 0 1 0 0 1\n",
      " 0 1 1 1 0 1 1 0 1 0 0 0 1 0 0 1 0 0 0 0 1 1 1 1 1 0 0 1 0 1 1 0 1 1 0 1 1\n",
      " 0 1 0 1 0 0 1 0 0 0 1 1 0 0 1 0 0 0 1 1 1 0 0 1 0 1 0 0 1 1 1 1 0 0 0 1 0\n",
      " 0 0 1 0 1 0 1 0 1 0 0 1 1 0 0 1 0 1 1 0 0 1 1 1 1 1 0 1 0 1 1 1 1 1 1 0 0\n",
      " 0 0 1 1 1 0 1 1 1 1 0 1 0 0 1 0 1 0 0 1 1 1 0 1 1 0 0 1 1 0 1 0 1 1 0 0 1\n",
      " 1 1 0 1 1 1 0 0 1 0 0 1 1 1 1 1 0 1 0 0 0 1 0 0 1 1 1 1 0 1 1 1 0 1 1 1 0\n",
      " 1 0 1 0 1 0 1 0 0 1 0 1 1 1 0 0 0 0 1 1 0 0 1 0 1 1 0 1 0 0 0 0 0 1 0 0 1\n",
      " 1 1 0 1 1 1 0 0 1 0 1 0 0 1 0 1 1 1 1 0 1 1 1 1 1 0 0 1 0 1 1 1 0 0 0 0 1\n",
      " 1 0 0 1 1 0 0 0 1 0 0 0 1 1 0 0 1 1 0 0 1 1 0 1 0 0 1 1 1 1 1 0 0 1 1 0 1\n",
      " 0 0 0 0 0 0 0 0 0 0 0 0 0 0 1 1 0 1 0 1 1 1 1 0 0 1 0 0 0 0 1 1 1 0 1 0 1\n",
      " 0 0 0 0 0 0 1 0 0 1 0 0 0 0 1 0 0 0 0 0 0 0 0 1 1 1 1 0 0 1 0 1 0 1 1 0 1\n",
      " 1 1 1 1 0 1 1 0 0 1 1 1 0 0 1 0 1 1 1 0 1 0 1 1 1 1 1 1 1 1 1 1 1 0 0 0 0\n",
      " 0 1 1 1 0 1 1 0 1 1 1 0 1 0 1 0 1 0 0 0 1 0 1 0 0 0 1 1 1 0 1 0 1 0 0 1 0\n",
      " 0 0 0 0 1 1 0 1 1 1 0 0 0 1 0 1 0 1 1 1 0 0 1 1 1 0 0 1 1 0 1 0 1 0 0 1 0\n",
      " 0 1 1 0 1 0 0 0 1 0 1 0 0 1 0 1 1 0 0 0 0 1 0 1 1 1 0 1 0 1 0 1 0 1 1 0 1\n",
      " 0 0 1 0 1 1 1 1 1 1 0 0 0 0 0 1 1 1 0 1 0 0 0 1 1 0 1 0 0 1 1 0 0 1 0 0 1\n",
      " 0 0 0 1 1 0 1 0 0 0 1 0 0 1 0 0 1 0 0 0 0 1 0]\n",
      "\n",
      "Testing is also completed....\n",
      "\n",
      "Testing samples are:\t 800\n"
     ]
    },
    {
     "name": "stderr",
     "output_type": "stream",
     "text": [
      "C:\\Users\\hp\\anaconda3\\Lib\\site-packages\\sklearn\\utils\\validation.py:1183: DataConversionWarning: A column-vector y was passed when a 1d array was expected. Please change the shape of y to (n_samples, ), for example using ravel().\n",
      "  y = column_or_1d(y, warn=True)\n"
     ]
    }
   ],
   "source": [
    "log_reg_ros=LogisticRegression(solver='liblinear',verbose=2)\n",
    "print('********************Logistic Regression with oversampling data(RandomOverSampler)**********************')\n",
    "#train the model\n",
    "print(\"Training Started.......\\n\")\n",
    "print()\n",
    "log_reg_ros.fit(ros_x,ros_y)\n",
    "print('Training completed.....')\n",
    "print()\n",
    "#test the model\n",
    "print('Testing invoked......\\n')\n",
    "ypred_ros=log_reg_ros.predict(sc_test_x)\n",
    "print('Predicted Class Labels are: \\n',ypred_ros)\n",
    "print('\\nTesting is also completed....\\n')\n",
    "print('Testing samples are:\\t',len(ypred_ros))"
   ]
  },
  {
   "cell_type": "code",
   "execution_count": 99,
   "id": "4f7a0e60",
   "metadata": {},
   "outputs": [
    {
     "name": "stdout",
     "output_type": "stream",
     "text": [
      "*******************Performance Measures for Logistic Regression after oversampling*************\n",
      "Accuracy Score:\t 0.5425\n",
      "\n",
      "Confusion Matrix:\n",
      " [[220 188]\n",
      " [178 214]]\n",
      "\n",
      "Classification Report:\n",
      "               precision    recall  f1-score   support\n",
      "\n",
      "           0       0.55      0.54      0.55       408\n",
      "           1       0.53      0.55      0.54       392\n",
      "\n",
      "    accuracy                           0.54       800\n",
      "   macro avg       0.54      0.54      0.54       800\n",
      "weighted avg       0.54      0.54      0.54       800\n",
      "\n",
      "\n",
      "Precision Score:\t 0.5323383084577115\n",
      "\n",
      "Recall Score:\t 0.5459183673469388\n",
      "\n",
      "F1 Score:\t 0.5390428211586903\n"
     ]
    }
   ],
   "source": [
    "#Performance Measures\n",
    "from sklearn.metrics import accuracy_score\n",
    "from sklearn.metrics import confusion_matrix\n",
    "from sklearn.metrics import classification_report\n",
    "from sklearn.metrics import precision_score, recall_score, f1_score\n",
    "\n",
    "\n",
    "print('*******************Performance Measures for Logistic Regression after oversampling*************')\n",
    "print('Accuracy Score:\\t',accuracy_score(ytest,ypred_ros))\n",
    "print()\n",
    "print('Confusion Matrix:\\n',confusion_matrix(ytest,ypred_ros))\n",
    "print()\n",
    "print('Classification Report:\\n',classification_report(ytest,ypred_ros))\n",
    "print()\n",
    "print('Precision Score:\\t',precision_score(ytest,ypred_ros))\n",
    "print()\n",
    "print('Recall Score:\\t',recall_score(ytest,ypred_ros))\n",
    "print()\n",
    "print('F1 Score:\\t',f1_score(ytest,ypred_ros))"
   ]
  },
  {
   "cell_type": "code",
   "execution_count": 100,
   "id": "ebaaff22",
   "metadata": {},
   "outputs": [],
   "source": [
    "from imblearn.over_sampling import SMOTE"
   ]
  },
  {
   "cell_type": "code",
   "execution_count": 101,
   "id": "0bcdf5e5",
   "metadata": {},
   "outputs": [],
   "source": [
    "smote = SMOTE(random_state=42)\n",
    "\n",
    "# Fit and apply SMOTE to the training data\n",
    "sm_train_x, sm_train_y = smote.fit_resample(sc_train_x, ytrain)"
   ]
  },
  {
   "cell_type": "code",
   "execution_count": 102,
   "id": "86e442a2",
   "metadata": {},
   "outputs": [
    {
     "name": "stdout",
     "output_type": "stream",
     "text": [
      "********************Logistic Regression with oversampling data(SMOTE)**********************\n",
      "Training Started.......\n",
      "\n",
      "\n",
      "[LibLinear]Training completed.....\n",
      "\n",
      "Testing invoked......\n",
      "\n",
      "Predicted Class Labels are: \n",
      " [0 1 1 1 0 0 0 0 1 0 0 0 1 1 1 0 0 0 0 0 1 1 0 1 1 1 0 1 0 1 0 0 1 1 0 0 0\n",
      " 1 1 1 0 1 0 1 1 1 0 1 1 0 1 1 0 0 0 1 0 0 1 0 1 0 0 0 0 0 0 0 0 1 1 1 0 1\n",
      " 0 0 1 1 1 1 0 0 0 1 1 1 0 1 0 1 1 1 1 0 0 1 1 0 1 1 0 0 0 1 1 0 0 1 1 0 0\n",
      " 1 0 1 1 0 1 0 0 0 0 1 0 1 1 1 1 0 1 0 1 0 1 1 0 1 1 1 1 1 0 1 0 0 1 0 1 1\n",
      " 0 0 0 0 0 0 0 1 0 1 0 1 1 1 1 0 0 1 0 1 1 1 1 0 0 1 0 0 0 0 1 1 1 1 1 1 1\n",
      " 0 1 1 0 1 0 0 1 0 1 0 1 1 1 1 0 1 0 0 0 1 0 1 1 0 0 0 0 0 1 0 1 0 1 0 0 1\n",
      " 0 0 1 1 0 1 1 0 1 0 0 0 1 0 0 1 0 0 0 0 1 1 1 1 1 0 0 1 0 1 1 0 1 1 0 1 1\n",
      " 0 1 0 1 0 0 1 0 1 0 1 1 0 0 1 0 0 0 0 1 1 0 0 1 0 1 0 0 1 1 1 1 0 0 0 1 0\n",
      " 0 0 1 0 1 0 1 0 1 0 0 1 1 0 0 1 0 1 1 0 0 1 1 1 1 1 0 1 0 1 1 1 1 1 1 0 0\n",
      " 0 0 1 1 1 0 1 1 1 1 0 1 0 0 1 0 1 0 0 1 1 1 0 1 1 0 0 1 1 0 1 1 1 1 0 0 1\n",
      " 1 1 0 1 1 1 0 0 1 0 1 1 0 1 1 1 0 1 0 0 0 1 0 0 1 0 1 1 0 1 1 1 0 0 1 1 0\n",
      " 1 0 1 0 1 0 1 0 0 1 0 1 1 1 0 1 0 0 1 1 0 0 1 0 1 1 0 1 0 0 0 0 0 1 0 0 1\n",
      " 1 1 0 1 1 1 0 0 1 0 1 0 0 1 0 1 1 1 1 0 1 1 1 1 1 0 1 1 0 1 1 1 0 0 0 0 1\n",
      " 1 0 0 1 1 0 0 0 1 0 0 0 1 1 0 0 1 0 0 0 1 1 0 1 0 0 1 1 1 1 1 0 0 1 1 0 1\n",
      " 0 0 0 0 0 0 0 0 0 0 0 0 0 0 1 1 0 1 0 1 1 1 1 0 0 1 0 0 0 0 1 1 1 0 1 0 1\n",
      " 0 0 0 0 0 0 1 0 0 1 0 0 0 0 1 0 0 0 0 0 0 0 0 1 1 1 1 0 0 1 0 1 0 1 1 0 1\n",
      " 1 1 1 1 0 1 1 0 0 1 1 1 0 0 1 0 1 1 1 0 1 0 1 1 1 1 1 1 1 1 1 1 1 0 0 0 0\n",
      " 0 1 1 1 0 1 1 0 1 1 1 1 1 0 1 0 1 0 0 0 1 0 1 1 0 0 1 1 1 0 1 0 1 1 0 1 0\n",
      " 0 0 0 0 1 1 0 1 1 1 0 0 0 1 0 1 0 1 1 1 0 0 1 1 1 0 0 1 1 0 1 0 1 1 0 1 0\n",
      " 0 1 1 0 1 0 0 0 1 0 1 0 0 1 0 1 1 0 0 0 0 1 0 1 1 1 0 1 0 1 0 1 0 1 1 0 1\n",
      " 0 0 1 0 1 1 1 1 1 1 0 0 0 0 0 1 1 0 0 1 0 0 0 1 1 0 1 0 0 1 1 0 0 1 0 0 1\n",
      " 0 0 0 1 1 0 1 0 0 0 1 0 0 1 0 0 1 0 1 0 0 1 0]\n",
      "\n",
      "Testing is also completed....\n",
      "\n",
      "Testing samples are:\t 800\n"
     ]
    },
    {
     "name": "stderr",
     "output_type": "stream",
     "text": [
      "C:\\Users\\hp\\anaconda3\\Lib\\site-packages\\sklearn\\utils\\validation.py:1183: DataConversionWarning: A column-vector y was passed when a 1d array was expected. Please change the shape of y to (n_samples, ), for example using ravel().\n",
      "  y = column_or_1d(y, warn=True)\n"
     ]
    }
   ],
   "source": [
    "#Build log reg model with Oversampling data(SMOTE)\n",
    "log_reg_sm=LogisticRegression(solver='liblinear',verbose=2)\n",
    "print('********************Logistic Regression with oversampling data(SMOTE)**********************')\n",
    "#train the model\n",
    "print(\"Training Started.......\\n\")\n",
    "print()\n",
    "log_reg_sm.fit(sm_train_x,sm_train_y)\n",
    "print('Training completed.....')\n",
    "print()\n",
    "#test the model\n",
    "print('Testing invoked......\\n')\n",
    "ypred_sm=log_reg_sm.predict(sc_test_x)\n",
    "print('Predicted Class Labels are: \\n',ypred_sm)\n",
    "print('\\nTesting is also completed....\\n')\n",
    "print('Testing samples are:\\t',len(ypred_sm))"
   ]
  },
  {
   "cell_type": "code",
   "execution_count": 103,
   "id": "dce4225a",
   "metadata": {},
   "outputs": [
    {
     "name": "stdout",
     "output_type": "stream",
     "text": [
      "*******************Performance Measures of log reg after oversampling*************\n",
      "Accuracy Score:\t 0.55125\n",
      "\n",
      "Confusion Matrix:\n",
      " [[223 185]\n",
      " [174 218]]\n",
      "\n",
      "Classification Report:\n",
      "               precision    recall  f1-score   support\n",
      "\n",
      "           0       0.56      0.55      0.55       408\n",
      "           1       0.54      0.56      0.55       392\n",
      "\n",
      "    accuracy                           0.55       800\n",
      "   macro avg       0.55      0.55      0.55       800\n",
      "weighted avg       0.55      0.55      0.55       800\n",
      "\n",
      "\n",
      "Precision Score:\t 0.5409429280397022\n",
      "\n",
      "Recall Score:\t 0.5561224489795918\n",
      "\n",
      "F1 Score:\t 0.5484276729559748\n"
     ]
    }
   ],
   "source": [
    "#Performance Measures\n",
    "from sklearn.metrics import accuracy_score\n",
    "from sklearn.metrics import confusion_matrix\n",
    "from sklearn.metrics import classification_report\n",
    "from sklearn.metrics import precision_score, recall_score, f1_score\n",
    "\n",
    "\n",
    "print('*******************Performance Measures of log reg after oversampling*************')\n",
    "print('Accuracy Score:\\t',accuracy_score(ytest,ypred_sm))\n",
    "print()\n",
    "print('Confusion Matrix:\\n',confusion_matrix(ytest,ypred_sm))\n",
    "print()\n",
    "print('Classification Report:\\n',classification_report(ytest,ypred_sm))\n",
    "print()\n",
    "print('Precision Score:\\t',precision_score(ytest,ypred_sm))\n",
    "print()\n",
    "print('Recall Score:\\t',recall_score(ytest,ypred_sm))\n",
    "print()\n",
    "print('F1 Score:\\t',f1_score(ytest,ypred_sm))"
   ]
  },
  {
   "cell_type": "code",
   "execution_count": 104,
   "id": "f9f6d571",
   "metadata": {},
   "outputs": [],
   "source": [
    "#undersampling\n",
    "from imblearn.under_sampling import RandomUnderSampler"
   ]
  },
  {
   "cell_type": "code",
   "execution_count": 105,
   "id": "93431d38",
   "metadata": {},
   "outputs": [
    {
     "name": "stdout",
     "output_type": "stream",
     "text": [
      "[[-1.44436413e+00 -1.44436413e+00  2.09463690e-01  1.24130263e+00\n",
      "  -2.29819887e-03 -9.56567272e-01]\n",
      " [-3.14545957e-01 -3.14545957e-01 -3.40880691e-01  1.24130263e+00\n",
      "  -2.29819887e-03 -9.56567272e-01]\n",
      " [-4.26836753e-01 -4.26836753e-01  1.34345133e+00  1.24130263e+00\n",
      "  -1.22800426e+00 -9.56567272e-01]\n",
      " ...\n",
      " [-3.75010232e-01 -3.75010232e-01 -1.05887758e+00  1.54969118e-03\n",
      "  -2.29819887e-03 -9.56567272e-01]\n",
      " [ 1.44841955e+00  1.44841955e+00 -7.31529420e-01  1.54969118e-03\n",
      "   1.22340786e+00  1.04540478e+00]\n",
      " [-1.63698603e+00 -1.63698603e+00 -5.13308669e-01  1.54969118e-03\n",
      "  -2.29819887e-03 -9.56567272e-01]]       Fraudlabel\n",
      "0              0\n",
      "1              0\n",
      "2              0\n",
      "3              0\n",
      "4              0\n",
      "...          ...\n",
      "3169           1\n",
      "3170           1\n",
      "3171           1\n",
      "3172           1\n",
      "3173           1\n",
      "\n",
      "[3174 rows x 1 columns]\n"
     ]
    }
   ],
   "source": [
    "rus = RandomUnderSampler(random_state=42)\n",
    "\n",
    "# Fit and resample the training data\n",
    "rus_train_x, rus_train_y = rus.fit_resample(sc_train_x, ytrain)\n",
    "print(rus_train_x,rus_train_y)"
   ]
  },
  {
   "cell_type": "code",
   "execution_count": 106,
   "id": "f3d0579f",
   "metadata": {},
   "outputs": [
    {
     "name": "stdout",
     "output_type": "stream",
     "text": [
      "********************Logistic Regression with undersampling data(RandomUnderSampler)**********************\n",
      "Training Started.......\n",
      "\n",
      "\n",
      "[LibLinear]Training completed.....\n",
      "\n",
      "Testing invoked......\n",
      "\n",
      "Predicted Class Labels are: \n",
      " [0 1 1 1 0 0 0 0 1 0 0 0 1 1 1 0 0 0 0 0 0 1 0 1 1 1 0 1 0 1 0 0 1 1 0 0 0\n",
      " 1 1 1 0 1 0 1 1 1 0 1 1 0 1 1 0 0 0 1 0 0 1 0 1 0 0 0 0 0 0 0 0 1 1 1 0 1\n",
      " 0 0 1 1 1 1 0 0 0 1 1 1 0 1 0 1 1 1 1 0 0 1 1 0 1 1 0 0 0 1 1 0 0 1 1 0 0\n",
      " 1 0 1 1 0 1 0 0 0 0 1 0 1 1 1 1 1 1 0 1 0 1 1 0 1 1 1 1 1 0 1 0 0 1 0 1 1\n",
      " 0 1 0 0 0 0 0 1 0 1 0 1 1 1 1 0 0 1 0 1 1 1 1 0 0 1 0 0 0 0 1 1 1 1 1 1 1\n",
      " 0 1 1 0 1 0 0 1 0 1 0 1 1 1 1 0 1 0 0 0 1 0 1 1 0 0 0 0 0 1 1 1 0 1 0 0 1\n",
      " 0 1 1 1 0 1 1 0 1 0 0 0 1 0 0 1 0 0 0 0 1 1 1 1 1 0 0 1 0 1 1 0 1 1 0 1 1\n",
      " 0 1 0 1 0 0 1 0 0 0 1 1 0 0 1 0 0 0 1 1 1 0 0 1 0 1 0 0 1 1 1 1 0 0 0 1 0\n",
      " 0 0 1 0 1 0 1 0 1 0 0 1 1 0 0 1 0 1 1 0 0 1 1 1 1 1 0 1 0 1 1 1 1 1 1 0 0\n",
      " 0 0 1 1 1 0 1 1 1 1 0 1 0 0 1 0 1 0 0 1 1 1 0 1 1 0 0 1 1 0 1 0 1 1 0 0 1\n",
      " 1 1 0 1 1 1 0 0 1 0 0 1 0 1 1 1 0 1 0 0 0 1 0 0 1 1 1 1 0 1 1 1 0 0 1 1 0\n",
      " 1 0 1 0 1 0 1 0 0 1 0 1 1 1 0 0 0 0 1 1 0 0 1 0 1 0 0 1 0 0 0 0 0 1 0 0 1\n",
      " 1 1 0 1 1 1 0 0 1 0 1 0 0 1 1 1 1 1 1 0 1 1 1 1 1 0 0 1 0 1 1 1 0 0 0 0 1\n",
      " 1 0 0 1 1 0 0 0 1 0 0 0 1 1 0 0 1 1 0 0 1 1 0 1 0 0 1 1 1 1 1 0 0 1 1 0 1\n",
      " 0 0 0 0 0 0 0 0 0 0 0 0 0 0 1 1 0 1 0 1 1 1 1 0 0 1 0 0 0 0 1 1 1 0 1 0 1\n",
      " 0 1 0 0 0 0 1 0 0 1 0 0 0 0 1 0 0 0 0 0 0 0 0 1 1 1 1 0 0 1 0 1 0 1 0 0 1\n",
      " 1 1 1 1 0 1 1 0 0 1 1 1 0 0 1 0 1 1 1 0 1 0 1 1 1 1 1 1 1 1 1 1 1 0 0 0 0\n",
      " 0 1 1 1 0 1 1 0 1 1 1 0 1 0 1 0 1 0 0 0 1 0 1 0 0 0 1 1 1 0 1 0 1 0 0 1 0\n",
      " 0 0 0 0 1 1 0 1 1 1 0 0 0 1 0 1 0 1 1 1 0 0 1 1 1 0 0 1 1 0 1 0 1 0 0 1 0\n",
      " 0 1 1 0 1 0 0 0 1 0 1 0 0 1 0 1 1 0 0 0 0 1 0 1 1 1 0 1 0 1 0 1 0 1 1 0 1\n",
      " 0 0 1 0 1 1 1 1 1 1 0 0 0 0 0 1 1 1 0 1 0 0 0 1 1 0 1 0 0 1 1 0 0 1 0 0 1\n",
      " 0 0 0 1 1 0 1 0 0 0 1 0 0 1 0 0 1 0 0 0 0 1 0]\n",
      "\n",
      "Testing is also completed....\n",
      "\n",
      "Testing samples are:\t 800\n"
     ]
    },
    {
     "name": "stderr",
     "output_type": "stream",
     "text": [
      "C:\\Users\\hp\\anaconda3\\Lib\\site-packages\\sklearn\\utils\\validation.py:1183: DataConversionWarning: A column-vector y was passed when a 1d array was expected. Please change the shape of y to (n_samples, ), for example using ravel().\n",
      "  y = column_or_1d(y, warn=True)\n"
     ]
    }
   ],
   "source": [
    "log_reg_rus=LogisticRegression(solver='liblinear',verbose=2)\n",
    "print('********************Logistic Regression with undersampling data(RandomUnderSampler)**********************')\n",
    "#train the model\n",
    "print(\"Training Started.......\\n\")\n",
    "print()\n",
    "log_reg_rus.fit(rus_train_x,rus_train_y)\n",
    "print('Training completed.....')\n",
    "print()\n",
    "#test the model\n",
    "print('Testing invoked......\\n')\n",
    "ypred_rus=log_reg_rus.predict(sc_test_x)\n",
    "print('Predicted Class Labels are: \\n',ypred_rus)\n",
    "print('\\nTesting is also completed....\\n')\n",
    "print('Testing samples are:\\t',len(ypred_rus))"
   ]
  },
  {
   "cell_type": "code",
   "execution_count": 107,
   "id": "7b9234f3",
   "metadata": {},
   "outputs": [
    {
     "name": "stdout",
     "output_type": "stream",
     "text": [
      "*******************Performance Measures after undersampling*************\n",
      "Accuracy Score:\t 0.5425\n",
      "\n",
      "Confusion Matrix:\n",
      " [[221 187]\n",
      " [179 213]]\n",
      "\n",
      "Classification Report:\n",
      "               precision    recall  f1-score   support\n",
      "\n",
      "           0       0.55      0.54      0.55       408\n",
      "           1       0.53      0.54      0.54       392\n",
      "\n",
      "    accuracy                           0.54       800\n",
      "   macro avg       0.54      0.54      0.54       800\n",
      "weighted avg       0.54      0.54      0.54       800\n",
      "\n",
      "\n",
      "Precision Score:\t 0.5325\n",
      "\n",
      "Recall Score:\t 0.5433673469387755\n",
      "\n",
      "F1 Score:\t 0.5378787878787878\n"
     ]
    }
   ],
   "source": [
    "#Performance Measures\n",
    "from sklearn.metrics import accuracy_score\n",
    "from sklearn.metrics import confusion_matrix\n",
    "from sklearn.metrics import classification_report\n",
    "from sklearn.metrics import precision_score, recall_score, f1_score\n",
    "\n",
    "\n",
    "print('*******************Performance Measures after undersampling*************')\n",
    "print('Accuracy Score:\\t',accuracy_score(ytest,ypred_rus))\n",
    "print()\n",
    "print('Confusion Matrix:\\n',confusion_matrix(ytest,ypred_rus))\n",
    "print()\n",
    "print('Classification Report:\\n',classification_report(ytest,ypred_rus))\n",
    "print()\n",
    "print('Precision Score:\\t',precision_score(ytest,ypred_rus))\n",
    "print()\n",
    "print('Recall Score:\\t',recall_score(ytest,ypred_rus))\n",
    "print()\n",
    "print('F1 Score:\\t',f1_score(ytest,ypred_rus))\n"
   ]
  }
 ],
 "metadata": {
  "kernelspec": {
   "display_name": "Python 3 (ipykernel)",
   "language": "python",
   "name": "python3"
  },
  "language_info": {
   "codemirror_mode": {
    "name": "ipython",
    "version": 3
   },
   "file_extension": ".py",
   "mimetype": "text/x-python",
   "name": "python",
   "nbconvert_exporter": "python",
   "pygments_lexer": "ipython3",
   "version": "3.11.4"
  }
 },
 "nbformat": 4,
 "nbformat_minor": 5
}
