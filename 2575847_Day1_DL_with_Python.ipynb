{
 "cells": [
  {
   "cell_type": "code",
   "execution_count": 1,
   "id": "8f217ec7",
   "metadata": {},
   "outputs": [
    {
     "name": "stdout",
     "output_type": "stream",
     "text": [
      "New Weights after Training\n",
      "\n",
      "[[-6.25750467]\n",
      " [-1.50744023]\n",
      " [ 0.68944695]\n",
      " [ 8.14427872]]\n",
      "\n",
      "Considering new situation [1, 0, 0] -> ?:\n",
      "[0.99968342]\n"
     ]
    }
   ],
   "source": [
    "import numpy as np\n",
    "\n",
    "class NeuralNetwork:\n",
    "    def __init__(self):\n",
    "        np.random.seed(2)\n",
    "        self.input_size = 3 \n",
    "        self.hidden_size = 4  \n",
    "        self.output_size = 1  \n",
    "        self.weights_input_hidden = 2 * np.random.random((self.input_size, self.hidden_size)) - 1\n",
    "        self.weights_hidden_output = 2 * np.random.random((self.hidden_size, self.output_size)) - 1\n",
    "\n",
    "    def sigmoid(self, x):\n",
    "        return 1 / (1 + np.exp(-x))\n",
    "\n",
    "    def sigmoid_derivative(self, x):\n",
    "        return x * (1 - x)\n",
    "\n",
    "    def feedforward(self, inputs):\n",
    "        self.hidden_sum = np.dot(inputs, self.weights_input_hidden)\n",
    "        self.activated_hidden = self.sigmoid(self.hidden_sum)\n",
    "        output_sum = np.dot(self.activated_hidden, self.weights_hidden_output)\n",
    "        return self.sigmoid(output_sum)\n",
    "\n",
    "    def train(self, training_set_inputs, training_set_outputs, number_of_training_iterations):\n",
    "        for iteration in range(number_of_training_iterations):\n",
    "            # Forward propagation\n",
    "            hidden_layer_output = self.sigmoid(np.dot(training_set_inputs, self.weights_input_hidden))\n",
    "            output = self.sigmoid(np.dot(hidden_layer_output, self.weights_hidden_output))\n",
    "\n",
    "            # Backpropagation\n",
    "            output_error = training_set_outputs - output\n",
    "            output_delta = output_error * self.sigmoid_derivative(output)\n",
    "\n",
    "            hidden_error = output_delta.dot(self.weights_hidden_output.T)\n",
    "            hidden_delta = hidden_error * self.sigmoid_derivative(hidden_layer_output)\n",
    "\n",
    "            # Update weights\n",
    "            self.weights_hidden_output += hidden_layer_output.T.dot(output_delta)\n",
    "            self.weights_input_hidden += training_set_inputs.T.dot(hidden_delta)\n",
    "\n",
    "\n",
    "if __name__ == \"__main__\":\n",
    "    neural_network = NeuralNetwork()\n",
    "    training_inputs = np.array([[0, 1, 0], [1, 0, 1], [1, 1, 0], [1, 1, 1]])\n",
    "    training_outputs = np.array([[0, 1, 1, 0]]).T\n",
    "\n",
    "    # Train the neural network\n",
    "    neural_network.train(training_inputs, training_outputs, number_of_training_iterations=10000)\n",
    "    print('New Weights after Training\\n')\n",
    "    print(neural_network.weights_hidden_output)\n",
    "    print()\n",
    "\n",
    "    \n",
    "    print(\"Considering new situation [1, 0, 0] -> ?:\")\n",
    "    print(neural_network.feedforward(np.array([1, 0, 0])))"
   ]
  },
  {
   "cell_type": "code",
   "execution_count": null,
   "id": "7e6d6abb",
   "metadata": {},
   "outputs": [],
   "source": []
  }
 ],
 "metadata": {
  "kernelspec": {
   "display_name": "Python 3 (ipykernel)",
   "language": "python",
   "name": "python3"
  },
  "language_info": {
   "codemirror_mode": {
    "name": "ipython",
    "version": 3
   },
   "file_extension": ".py",
   "mimetype": "text/x-python",
   "name": "python",
   "nbconvert_exporter": "python",
   "pygments_lexer": "ipython3",
   "version": "3.11.4"
  }
 },
 "nbformat": 4,
 "nbformat_minor": 5
}
